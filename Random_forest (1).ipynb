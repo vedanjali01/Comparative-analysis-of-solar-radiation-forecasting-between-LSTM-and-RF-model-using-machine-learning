{
 "cells": [
  {
   "cell_type": "code",
   "execution_count": 168,
   "metadata": {},
   "outputs": [],
   "source": [
    "import pandas as pd \n",
    "import numpy as np\n",
    "from datetime import datetime,date\n",
    "import seaborn as sns\n",
    "from sklearn.linear_model import LinearRegression\n",
    "from sklearn.model_selection import train_test_split,GridSearchCV,StratifiedKFold\n",
    "import matplotlib.pyplot as plt\n",
    "from sklearn.metrics import mean_squared_error, r2_score,mean_absolute_error\n",
    "from sklearn.model_selection import cross_val_score\n",
    "from math import *\n",
    "from sklearn import model_selection\n",
    "from sklearn.model_selection import RandomizedSearchCV\n",
    "from sklearn.ensemble import RandomForestRegressor\n",
    "from sklearn.neighbors import KNeighborsRegressor\n",
    "from sklearn.ensemble import StackingRegressor\n",
    "from sklearn.svm import SVR\n",
    "from tqdm import tqdm\n",
    "#from evolutionary_search import EvolutionaryAlgorithmSearchCV\n"
   ]
  },
  {
   "cell_type": "code",
   "execution_count": 169,
   "metadata": {},
   "outputs": [],
   "source": [
    "def TracePlot(model, input_X, input_y, input_color = None, max_range = 800):\n",
    "    plt.figure(figsize = (16,6))\n",
    "\n",
    "    plot_x1 = np.arange(0,len(input_y))\n",
    "    plt.plot(plot_x1, input_y)\n",
    "\n",
    "    plt.plot(plot_x1, model.predict(input_X), color = input_color)\n",
    "\n",
    "    plt.xlim(0,max_range)\n",
    "    plt.legend()\n",
    "    plt.show()"
   ]
  },
  {
   "cell_type": "code",
   "execution_count": 170,
   "metadata": {},
   "outputs": [
    {
     "data": {
      "text/html": [
       "<div>\n",
       "<style scoped>\n",
       "    .dataframe tbody tr th:only-of-type {\n",
       "        vertical-align: middle;\n",
       "    }\n",
       "\n",
       "    .dataframe tbody tr th {\n",
       "        vertical-align: top;\n",
       "    }\n",
       "\n",
       "    .dataframe thead th {\n",
       "        text-align: right;\n",
       "    }\n",
       "</style>\n",
       "<table border=\"1\" class=\"dataframe\">\n",
       "  <thead>\n",
       "    <tr style=\"text-align: right;\">\n",
       "      <th></th>\n",
       "      <th>year</th>\n",
       "      <th>month</th>\n",
       "      <th>day</th>\n",
       "      <th>irradiation_forecast</th>\n",
       "      <th>temperature_forecast</th>\n",
       "      <th>irradiation</th>\n",
       "      <th>temperature</th>\n",
       "      <th>power</th>\n",
       "    </tr>\n",
       "  </thead>\n",
       "  <tbody>\n",
       "    <tr>\n",
       "      <th>0</th>\n",
       "      <td>2017</td>\n",
       "      <td>1</td>\n",
       "      <td>1</td>\n",
       "      <td>0.000000</td>\n",
       "      <td>2.115371</td>\n",
       "      <td>0.802334</td>\n",
       "      <td>0.720098</td>\n",
       "      <td>0</td>\n",
       "    </tr>\n",
       "    <tr>\n",
       "      <th>1</th>\n",
       "      <td>2017</td>\n",
       "      <td>1</td>\n",
       "      <td>1</td>\n",
       "      <td>0.000000</td>\n",
       "      <td>2.185371</td>\n",
       "      <td>1.000000</td>\n",
       "      <td>1.154616</td>\n",
       "      <td>0</td>\n",
       "    </tr>\n",
       "    <tr>\n",
       "      <th>2</th>\n",
       "      <td>2017</td>\n",
       "      <td>1</td>\n",
       "      <td>1</td>\n",
       "      <td>0.000000</td>\n",
       "      <td>2.265371</td>\n",
       "      <td>0.891393</td>\n",
       "      <td>1.304207</td>\n",
       "      <td>0</td>\n",
       "    </tr>\n",
       "    <tr>\n",
       "      <th>3</th>\n",
       "      <td>2017</td>\n",
       "      <td>1</td>\n",
       "      <td>1</td>\n",
       "      <td>0.000000</td>\n",
       "      <td>2.445371</td>\n",
       "      <td>0.837256</td>\n",
       "      <td>1.079527</td>\n",
       "      <td>0</td>\n",
       "    </tr>\n",
       "    <tr>\n",
       "      <th>4</th>\n",
       "      <td>2017</td>\n",
       "      <td>1</td>\n",
       "      <td>1</td>\n",
       "      <td>0.000000</td>\n",
       "      <td>2.845371</td>\n",
       "      <td>0.848814</td>\n",
       "      <td>0.649967</td>\n",
       "      <td>0</td>\n",
       "    </tr>\n",
       "    <tr>\n",
       "      <th>...</th>\n",
       "      <td>...</td>\n",
       "      <td>...</td>\n",
       "      <td>...</td>\n",
       "      <td>...</td>\n",
       "      <td>...</td>\n",
       "      <td>...</td>\n",
       "      <td>...</td>\n",
       "      <td>...</td>\n",
       "    </tr>\n",
       "    <tr>\n",
       "      <th>36715</th>\n",
       "      <td>2021</td>\n",
       "      <td>3</td>\n",
       "      <td>10</td>\n",
       "      <td>19.610334</td>\n",
       "      <td>4.694629</td>\n",
       "      <td>0.770375</td>\n",
       "      <td>3.713455</td>\n",
       "      <td>0</td>\n",
       "    </tr>\n",
       "    <tr>\n",
       "      <th>36716</th>\n",
       "      <td>2021</td>\n",
       "      <td>3</td>\n",
       "      <td>10</td>\n",
       "      <td>0.000000</td>\n",
       "      <td>3.454629</td>\n",
       "      <td>0.987695</td>\n",
       "      <td>2.694212</td>\n",
       "      <td>0</td>\n",
       "    </tr>\n",
       "    <tr>\n",
       "      <th>36717</th>\n",
       "      <td>2021</td>\n",
       "      <td>3</td>\n",
       "      <td>10</td>\n",
       "      <td>0.000000</td>\n",
       "      <td>2.124629</td>\n",
       "      <td>0.987637</td>\n",
       "      <td>1.834956</td>\n",
       "      <td>0</td>\n",
       "    </tr>\n",
       "    <tr>\n",
       "      <th>36718</th>\n",
       "      <td>2021</td>\n",
       "      <td>3</td>\n",
       "      <td>10</td>\n",
       "      <td>0.000000</td>\n",
       "      <td>1.034629</td>\n",
       "      <td>0.993837</td>\n",
       "      <td>1.209808</td>\n",
       "      <td>0</td>\n",
       "    </tr>\n",
       "    <tr>\n",
       "      <th>36719</th>\n",
       "      <td>2021</td>\n",
       "      <td>3</td>\n",
       "      <td>10</td>\n",
       "      <td>0.000000</td>\n",
       "      <td>0.264629</td>\n",
       "      <td>0.987654</td>\n",
       "      <td>0.613663</td>\n",
       "      <td>0</td>\n",
       "    </tr>\n",
       "  </tbody>\n",
       "</table>\n",
       "<p>36720 rows × 8 columns</p>\n",
       "</div>"
      ],
      "text/plain": [
       "       year  month  day  irradiation_forecast  temperature_forecast  \\\n",
       "0      2017      1    1              0.000000              2.115371   \n",
       "1      2017      1    1              0.000000              2.185371   \n",
       "2      2017      1    1              0.000000              2.265371   \n",
       "3      2017      1    1              0.000000              2.445371   \n",
       "4      2017      1    1              0.000000              2.845371   \n",
       "...     ...    ...  ...                   ...                   ...   \n",
       "36715  2021      3   10             19.610334              4.694629   \n",
       "36716  2021      3   10              0.000000              3.454629   \n",
       "36717  2021      3   10              0.000000              2.124629   \n",
       "36718  2021      3   10              0.000000              1.034629   \n",
       "36719  2021      3   10              0.000000              0.264629   \n",
       "\n",
       "       irradiation  temperature power  \n",
       "0         0.802334     0.720098     0  \n",
       "1         1.000000     1.154616     0  \n",
       "2         0.891393     1.304207     0  \n",
       "3         0.837256     1.079527     0  \n",
       "4         0.848814     0.649967     0  \n",
       "...            ...          ...   ...  \n",
       "36715     0.770375     3.713455     0  \n",
       "36716     0.987695     2.694212     0  \n",
       "36717     0.987637     1.834956     0  \n",
       "36718     0.993837     1.209808     0  \n",
       "36719     0.987654     0.613663     0  \n",
       "\n",
       "[36720 rows x 8 columns]"
      ]
     },
     "execution_count": 170,
     "metadata": {},
     "output_type": "execute_result"
    }
   ],
   "source": [
    "dfx = pd.read_csv(csv_path)\n",
    "dfx"
   ]
  },
  {
   "cell_type": "code",
   "execution_count": 171,
   "metadata": {},
   "outputs": [],
   "source": [
    "dfx['time(UTC)'] = pd.to_datetime(dfx[['year','month','day']])"
   ]
  },
  {
   "cell_type": "code",
   "execution_count": 172,
   "metadata": {},
   "outputs": [
    {
     "data": {
      "text/plain": [
       "Index(['year', 'month', 'day', 'irradiation_forecast', 'temperature_forecast',\n",
       "       'irradiation', 'temperature', 'power', 'time(UTC)'],\n",
       "      dtype='object')"
      ]
     },
     "execution_count": 172,
     "metadata": {},
     "output_type": "execute_result"
    }
   ],
   "source": [
    "dfx.columns"
   ]
  },
  {
   "cell_type": "code",
   "execution_count": 173,
   "metadata": {},
   "outputs": [],
   "source": [
    "df = dfx[['time(UTC)','irradiation','temperature']]"
   ]
  },
  {
   "cell_type": "code",
   "execution_count": 174,
   "metadata": {},
   "outputs": [
    {
     "data": {
      "text/plain": [
       "(36720, 3)"
      ]
     },
     "execution_count": 174,
     "metadata": {},
     "output_type": "execute_result"
    }
   ],
   "source": [
    "df.shape"
   ]
  },
  {
   "cell_type": "code",
   "execution_count": 175,
   "metadata": {},
   "outputs": [],
   "source": [
    "df.set_index('time(UTC)', inplace = True) #UTC-Universal Time Coordinated"
   ]
  },
  {
   "cell_type": "code",
   "execution_count": 176,
   "metadata": {},
   "outputs": [
    {
     "data": {
      "text/html": [
       "<div>\n",
       "<style scoped>\n",
       "    .dataframe tbody tr th:only-of-type {\n",
       "        vertical-align: middle;\n",
       "    }\n",
       "\n",
       "    .dataframe tbody tr th {\n",
       "        vertical-align: top;\n",
       "    }\n",
       "\n",
       "    .dataframe thead th {\n",
       "        text-align: right;\n",
       "    }\n",
       "</style>\n",
       "<table border=\"1\" class=\"dataframe\">\n",
       "  <thead>\n",
       "    <tr style=\"text-align: right;\">\n",
       "      <th></th>\n",
       "      <th>irradiation</th>\n",
       "      <th>temperature</th>\n",
       "    </tr>\n",
       "    <tr>\n",
       "      <th>time(UTC)</th>\n",
       "      <th></th>\n",
       "      <th></th>\n",
       "    </tr>\n",
       "  </thead>\n",
       "  <tbody>\n",
       "    <tr>\n",
       "      <th>2017-01-01</th>\n",
       "      <td>0.802334</td>\n",
       "      <td>0.720098</td>\n",
       "    </tr>\n",
       "    <tr>\n",
       "      <th>2017-01-01</th>\n",
       "      <td>1.000000</td>\n",
       "      <td>1.154616</td>\n",
       "    </tr>\n",
       "    <tr>\n",
       "      <th>2017-01-01</th>\n",
       "      <td>0.891393</td>\n",
       "      <td>1.304207</td>\n",
       "    </tr>\n",
       "    <tr>\n",
       "      <th>2017-01-01</th>\n",
       "      <td>0.837256</td>\n",
       "      <td>1.079527</td>\n",
       "    </tr>\n",
       "    <tr>\n",
       "      <th>2017-01-01</th>\n",
       "      <td>0.848814</td>\n",
       "      <td>0.649967</td>\n",
       "    </tr>\n",
       "    <tr>\n",
       "      <th>...</th>\n",
       "      <td>...</td>\n",
       "      <td>...</td>\n",
       "    </tr>\n",
       "    <tr>\n",
       "      <th>2021-03-10</th>\n",
       "      <td>0.770375</td>\n",
       "      <td>3.713455</td>\n",
       "    </tr>\n",
       "    <tr>\n",
       "      <th>2021-03-10</th>\n",
       "      <td>0.987695</td>\n",
       "      <td>2.694212</td>\n",
       "    </tr>\n",
       "    <tr>\n",
       "      <th>2021-03-10</th>\n",
       "      <td>0.987637</td>\n",
       "      <td>1.834956</td>\n",
       "    </tr>\n",
       "    <tr>\n",
       "      <th>2021-03-10</th>\n",
       "      <td>0.993837</td>\n",
       "      <td>1.209808</td>\n",
       "    </tr>\n",
       "    <tr>\n",
       "      <th>2021-03-10</th>\n",
       "      <td>0.987654</td>\n",
       "      <td>0.613663</td>\n",
       "    </tr>\n",
       "  </tbody>\n",
       "</table>\n",
       "<p>36720 rows × 2 columns</p>\n",
       "</div>"
      ],
      "text/plain": [
       "            irradiation  temperature\n",
       "time(UTC)                           \n",
       "2017-01-01     0.802334     0.720098\n",
       "2017-01-01     1.000000     1.154616\n",
       "2017-01-01     0.891393     1.304207\n",
       "2017-01-01     0.837256     1.079527\n",
       "2017-01-01     0.848814     0.649967\n",
       "...                 ...          ...\n",
       "2021-03-10     0.770375     3.713455\n",
       "2021-03-10     0.987695     2.694212\n",
       "2021-03-10     0.987637     1.834956\n",
       "2021-03-10     0.993837     1.209808\n",
       "2021-03-10     0.987654     0.613663\n",
       "\n",
       "[36720 rows x 2 columns]"
      ]
     },
     "execution_count": 176,
     "metadata": {},
     "output_type": "execute_result"
    }
   ],
   "source": [
    "df"
   ]
  },
  {
   "cell_type": "code",
   "execution_count": 177,
   "metadata": {},
   "outputs": [
    {
     "data": {
      "text/plain": [
       "<pandas.core.resample.DatetimeIndexResampler object at 0x000001CB4BDA6FD0>"
      ]
     },
     "execution_count": 177,
     "metadata": {},
     "output_type": "execute_result"
    }
   ],
   "source": [
    "df.resample('D', label='left')"
   ]
  },
  {
   "cell_type": "code",
   "execution_count": 178,
   "metadata": {},
   "outputs": [],
   "source": [
    "opsd_Day_mean = df['irradiation'].resample('D').mean()"
   ]
  },
  {
   "cell_type": "code",
   "execution_count": 179,
   "metadata": {},
   "outputs": [
    {
     "data": {
      "text/plain": [
       "DatetimeIndex(['2017-01-01', '2017-01-02', '2017-01-03', '2017-01-04',\n",
       "               '2017-01-05', '2017-01-06', '2017-01-07', '2017-01-08',\n",
       "               '2017-01-09', '2017-01-10',\n",
       "               ...\n",
       "               '2021-03-01', '2021-03-02', '2021-03-03', '2021-03-04',\n",
       "               '2021-03-05', '2021-03-06', '2021-03-07', '2021-03-08',\n",
       "               '2021-03-09', '2021-03-10'],\n",
       "              dtype='datetime64[ns]', name='time(UTC)', length=1530, freq='D')"
      ]
     },
     "execution_count": 179,
     "metadata": {},
     "output_type": "execute_result"
    }
   ],
   "source": [
    "opsd_Day_mean.index"
   ]
  },
  {
   "cell_type": "code",
   "execution_count": 180,
   "metadata": {},
   "outputs": [],
   "source": [
    "df_d = pd.DataFrame(data=opsd_Day_mean, index=opsd_Day_mean.index)"
   ]
  },
  {
   "cell_type": "code",
   "execution_count": 181,
   "metadata": {},
   "outputs": [
    {
     "data": {
      "text/html": [
       "<div>\n",
       "<style scoped>\n",
       "    .dataframe tbody tr th:only-of-type {\n",
       "        vertical-align: middle;\n",
       "    }\n",
       "\n",
       "    .dataframe tbody tr th {\n",
       "        vertical-align: top;\n",
       "    }\n",
       "\n",
       "    .dataframe thead th {\n",
       "        text-align: right;\n",
       "    }\n",
       "</style>\n",
       "<table border=\"1\" class=\"dataframe\">\n",
       "  <thead>\n",
       "    <tr style=\"text-align: right;\">\n",
       "      <th></th>\n",
       "      <th>irradiation</th>\n",
       "      <th>time(UTC)</th>\n",
       "    </tr>\n",
       "  </thead>\n",
       "  <tbody>\n",
       "    <tr>\n",
       "      <th>0</th>\n",
       "      <td>98.824703</td>\n",
       "      <td>2017-01-01</td>\n",
       "    </tr>\n",
       "    <tr>\n",
       "      <th>1</th>\n",
       "      <td>7.734570</td>\n",
       "      <td>2017-01-02</td>\n",
       "    </tr>\n",
       "    <tr>\n",
       "      <th>2</th>\n",
       "      <td>9.191607</td>\n",
       "      <td>2017-01-03</td>\n",
       "    </tr>\n",
       "    <tr>\n",
       "      <th>3</th>\n",
       "      <td>23.175814</td>\n",
       "      <td>2017-01-04</td>\n",
       "    </tr>\n",
       "    <tr>\n",
       "      <th>4</th>\n",
       "      <td>61.680674</td>\n",
       "      <td>2017-01-05</td>\n",
       "    </tr>\n",
       "    <tr>\n",
       "      <th>...</th>\n",
       "      <td>...</td>\n",
       "      <td>...</td>\n",
       "    </tr>\n",
       "    <tr>\n",
       "      <th>1525</th>\n",
       "      <td>213.458885</td>\n",
       "      <td>2021-03-06</td>\n",
       "    </tr>\n",
       "    <tr>\n",
       "      <th>1526</th>\n",
       "      <td>37.296009</td>\n",
       "      <td>2021-03-07</td>\n",
       "    </tr>\n",
       "    <tr>\n",
       "      <th>1527</th>\n",
       "      <td>151.429172</td>\n",
       "      <td>2021-03-08</td>\n",
       "    </tr>\n",
       "    <tr>\n",
       "      <th>1528</th>\n",
       "      <td>166.981803</td>\n",
       "      <td>2021-03-09</td>\n",
       "    </tr>\n",
       "    <tr>\n",
       "      <th>1529</th>\n",
       "      <td>203.732831</td>\n",
       "      <td>2021-03-10</td>\n",
       "    </tr>\n",
       "  </tbody>\n",
       "</table>\n",
       "<p>1530 rows × 2 columns</p>\n",
       "</div>"
      ],
      "text/plain": [
       "      irradiation  time(UTC)\n",
       "0       98.824703 2017-01-01\n",
       "1        7.734570 2017-01-02\n",
       "2        9.191607 2017-01-03\n",
       "3       23.175814 2017-01-04\n",
       "4       61.680674 2017-01-05\n",
       "...           ...        ...\n",
       "1525   213.458885 2021-03-06\n",
       "1526    37.296009 2021-03-07\n",
       "1527   151.429172 2021-03-08\n",
       "1528   166.981803 2021-03-09\n",
       "1529   203.732831 2021-03-10\n",
       "\n",
       "[1530 rows x 2 columns]"
      ]
     },
     "execution_count": 181,
     "metadata": {},
     "output_type": "execute_result"
    }
   ],
   "source": [
    "df_d['time(UTC)']=opsd_Day_mean.index\n",
    "df_d.reset_index(drop=True, inplace=True)\n",
    "df_d"
   ]
  },
  {
   "cell_type": "code",
   "execution_count": 189,
   "metadata": {},
   "outputs": [
    {
     "data": {
      "text/plain": [
       "Text(0, 0.5, '$G (kW-hr/m^2/hours)$')"
      ]
     },
     "execution_count": 189,
     "metadata": {},
     "output_type": "execute_result"
    },
    {
     "data": {
      "text/plain": [
       "<Figure size 360x2160 with 0 Axes>"
      ]
     },
     "metadata": {},
     "output_type": "display_data"
    },
    {
     "data": {
      "image/png": "[encoded data removed]",
      "text/plain": [
       "<Figure size 432x288 with 1 Axes>"
      ]
     },
     "metadata": {
      "needs_background": "light"
     },
     "output_type": "display_data"
    }
   ],
   "source": [
    "plt.figure(figsize=(5,30))\n",
    "ax = df_d.plot(y='irradiation');\n",
    "ax.set_xlabel(\"Date\")\n",
    "ax.set_ylabel(r'$G (kW-hr/m^2/hours)$')"
   ]
  },
  {
   "cell_type": "code",
   "execution_count": 190,
   "metadata": {},
   "outputs": [],
   "source": [
    "# X_train = df.drop('irradiation', axis = 1)\n",
    "# y_train = df['irradiation'].copy().values\n",
    "\n",
    "# X_test = df.drop('irradiation', axis = 1)\n",
    "# y_test = df['irradiation'].copy().values\n"
   ]
  },
  {
   "cell_type": "code",
   "execution_count": 191,
   "metadata": {},
   "outputs": [],
   "source": [
    "# forest = RandomForestRegressor(n_estimators=100,\n",
    "#                                min_samples_split = 10,\n",
    "#                                criterion='mse',\n",
    "#                               min_samples_leaf = 5,\n",
    "#                               max_features = 0.5,\n",
    "#                               max_depth = None)\n",
    "\n",
    "# forest_params = {\n",
    "#     'max_depth' : [5,10],\n",
    "# }\n",
    "# rs_forest = GridSearchCV(forest, forest_params, cv = 3, verbose=3, n_jobs = 3)\n",
    "# rs_forest.fit(X_train, y_train)"
   ]
  },
  {
   "cell_type": "code",
   "execution_count": 192,
   "metadata": {},
   "outputs": [],
   "source": [
    "#Initialize random grid of hyper-params\n",
    "# Number of trees in random forest\n",
    "n_estimators = [int(x) for x in np.linspace(start = 200, stop = 2000, num = 10)]\n",
    "# Number of features to consider at every split\n",
    "max_features = ['auto', 'sqrt']\n",
    "# Maximum number of levels in tree\n",
    "max_depth = [int(x) for x in np.linspace(10, 110, num = 11)]\n",
    "max_depth.append(None)\n",
    "# Minimum number of samples required to split a node\n",
    "min_samples_split = [2, 5, 10]\n",
    "# Minimum number of samples required at each leaf node\n",
    "min_samples_leaf = [1, 2, 4]\n",
    "# Method of selecting samples for training each tree\n",
    "bootstrap = [True, False]\n",
    "# Create the random grid\n",
    "random_grid = {'n_estimators': n_estimators,\n",
    "               'max_features': max_features,\n",
    "               'max_depth': max_depth,\n",
    "               'min_samples_split': min_samples_split,\n",
    "               'min_samples_leaf': min_samples_leaf,\n",
    "               'bootstrap': bootstrap}"
   ]
  },
  {
   "cell_type": "code",
   "execution_count": 193,
   "metadata": {},
   "outputs": [],
   "source": [
    "# dictionary of model params/scores computed on different metric\n",
    "def model_score_on_different_metric(y_test, y_pred,model_fit):\n",
    "    score_on_metric_dic =dict()\n",
    "    score_on_metric_dic['Model parameters']= model_fit.best_params_\n",
    "    score_on_metric_dic['Mean absolute error']= mean_absolute_error(y_test, y_pred)\n",
    "    score_on_metric_dic['Root-mean-square error']=sqrt(mean_squared_error(y_test, y_pred))\n",
    "    score_on_metric_dic['Coefficient of determination']= r2_score(y_test, y_pred)\n",
    "    return score_on_metric_dic\n",
    "\n",
    "#functions to control the research  of hyper-parameters\n",
    "def set_research_interval_min_sample_leaf(min_samples_leaf, setting_larger_search_interval ):\n",
    "    min_simple_leaf_interval = list()\n",
    "    min_simple_leaf_interval = [min_samples_leaf+i for i in setting_larger_search_interval if (min_samples_leaf+i)>=1]\n",
    "    return min_simple_leaf_interval\n",
    "\n",
    "def set_research_interval_min_sample_split(min_samples_split, setting_larger_search_interval ):\n",
    "    min_simple_split_interval = list()\n",
    "    min_simple_split_interval = [min_samples_split+i for i in setting_larger_search_interval \n",
    "                                     if (min_samples_split+i) >=2]\n",
    "    return min_simple_split_interval\n",
    "\n",
    "def set_research_interval_n_estimators(n_estimators, setting_larger_search_interval ):\n",
    "    n_estimators_interval = list()\n",
    "    n_estimators_interval = [n_estimators+i for i in setting_larger_search_interval \n",
    "                                     if (n_estimators+i) >=100]\n",
    "    return n_estimators_interval\n",
    "\n",
    "def set_research_interval_max_depth(max_depth, setting_larger_search_interval ):\n",
    "    max_depth_interval = list()\n",
    "    max_depth_interval = [max_depth+i for i in setting_larger_search_interval \n",
    "                                     if (max_depth+i) >=2]\n",
    "    return  max_depth_interval"
   ]
  },
  {
   "cell_type": "code",
   "execution_count": 194,
   "metadata": {},
   "outputs": [
    {
     "data": {
      "text/plain": [
       "0        98.824703\n",
       "1         7.734570\n",
       "2         9.191607\n",
       "3        23.175814\n",
       "4        61.680674\n",
       "           ...    \n",
       "1525    213.458885\n",
       "1526     37.296009\n",
       "1527    151.429172\n",
       "1528    166.981803\n",
       "1529    203.732831\n",
       "Name: irradiation, Length: 1530, dtype: float64"
      ]
     },
     "execution_count": 194,
     "metadata": {},
     "output_type": "execute_result"
    }
   ],
   "source": [
    "X = df_d.drop(columns='irradiation')\n",
    "Y = df_d['irradiation']\n",
    "X\n",
    "Y"
   ]
  },
  {
   "cell_type": "code",
   "execution_count": 195,
   "metadata": {},
   "outputs": [
    {
     "name": "stdout",
     "output_type": "stream",
     "text": [
      "Fitting 3 folds for each of 100 candidates, totalling 300 fits\n"
     ]
    },
    {
     "name": "stderr",
     "output_type": "stream",
     "text": [
      "[Parallel(n_jobs=-1)]: Using backend LokyBackend with 8 concurrent workers.\n",
      "[Parallel(n_jobs=-1)]: Done  25 tasks      | elapsed:   16.4s\n",
      "[Parallel(n_jobs=-1)]: Done 146 tasks      | elapsed:  1.1min\n",
      "[Parallel(n_jobs=-1)]: Done 300 out of 300 | elapsed:  2.2min finished\n"
     ]
    },
    {
     "name": "stdout",
     "output_type": "stream",
     "text": [
      "Fitting 3 folds for each of 1728 candidates, totalling 5184 fits\n"
     ]
    },
    {
     "name": "stderr",
     "output_type": "stream",
     "text": [
      "[Parallel(n_jobs=-1)]: Using backend LokyBackend with 8 concurrent workers.\n",
      "[Parallel(n_jobs=-1)]: Done  25 tasks      | elapsed:    8.6s\n",
      "[Parallel(n_jobs=-1)]: Done 146 tasks      | elapsed:   42.6s\n",
      "[Parallel(n_jobs=-1)]: Done 349 tasks      | elapsed:  1.7min\n",
      "[Parallel(n_jobs=-1)]: Done 632 tasks      | elapsed:  2.9min\n",
      "[Parallel(n_jobs=-1)]: Done 997 tasks      | elapsed:  4.5min\n",
      "[Parallel(n_jobs=-1)]: Done 1442 tasks      | elapsed:  6.5min\n",
      "[Parallel(n_jobs=-1)]: Done 1969 tasks      | elapsed:  8.8min\n",
      "[Parallel(n_jobs=-1)]: Done 2576 tasks      | elapsed: 11.4min\n",
      "[Parallel(n_jobs=-1)]: Done 3265 tasks      | elapsed: 14.5min\n",
      "[Parallel(n_jobs=-1)]: Done 4034 tasks      | elapsed: 17.9min\n",
      "[Parallel(n_jobs=-1)]: Done 4885 tasks      | elapsed: 21.6min\n",
      "[Parallel(n_jobs=-1)]: Done 5184 out of 5184 | elapsed: 22.9min finished\n"
     ]
    },
    {
     "name": "stdout",
     "output_type": "stream",
     "text": [
      "Fitting 3 folds for each of 100 candidates, totalling 300 fits\n"
     ]
    },
    {
     "name": "stderr",
     "output_type": "stream",
     "text": [
      "[Parallel(n_jobs=-1)]: Using backend LokyBackend with 8 concurrent workers.\n",
      "[Parallel(n_jobs=-1)]: Done  25 tasks      | elapsed:   12.4s\n",
      "[Parallel(n_jobs=-1)]: Done 146 tasks      | elapsed:  1.0min\n",
      "[Parallel(n_jobs=-1)]: Done 300 out of 300 | elapsed:  2.1min finished\n"
     ]
    },
    {
     "name": "stdout",
     "output_type": "stream",
     "text": [
      "Fitting 3 folds for each of 2160 candidates, totalling 6480 fits\n"
     ]
    },
    {
     "name": "stderr",
     "output_type": "stream",
     "text": [
      "[Parallel(n_jobs=-1)]: Using backend LokyBackend with 8 concurrent workers.\n",
      "[Parallel(n_jobs=-1)]: Done  25 tasks      | elapsed:    4.3s\n",
      "[Parallel(n_jobs=-1)]: Done 146 tasks      | elapsed:   22.6s\n",
      "[Parallel(n_jobs=-1)]: Done 349 tasks      | elapsed:   53.2s\n",
      "[Parallel(n_jobs=-1)]: Done 632 tasks      | elapsed:  1.6min\n",
      "[Parallel(n_jobs=-1)]: Done 997 tasks      | elapsed:  2.4min\n",
      "[Parallel(n_jobs=-1)]: Done 1442 tasks      | elapsed:  3.5min\n",
      "[Parallel(n_jobs=-1)]: Done 1969 tasks      | elapsed:  4.8min\n",
      "[Parallel(n_jobs=-1)]: Done 2576 tasks      | elapsed:  6.3min\n",
      "[Parallel(n_jobs=-1)]: Done 3265 tasks      | elapsed:  8.0min\n",
      "[Parallel(n_jobs=-1)]: Done 4034 tasks      | elapsed:  9.8min\n",
      "[Parallel(n_jobs=-1)]: Done 4885 tasks      | elapsed: 11.9min\n",
      "[Parallel(n_jobs=-1)]: Done 5816 tasks      | elapsed: 14.2min\n",
      "[Parallel(n_jobs=-1)]: Done 6480 out of 6480 | elapsed: 15.8min finished\n"
     ]
    },
    {
     "name": "stdout",
     "output_type": "stream",
     "text": [
      "Fitting 3 folds for each of 100 candidates, totalling 300 fits\n"
     ]
    },
    {
     "name": "stderr",
     "output_type": "stream",
     "text": [
      "[Parallel(n_jobs=-1)]: Using backend LokyBackend with 8 concurrent workers.\n",
      "[Parallel(n_jobs=-1)]: Done  25 tasks      | elapsed:   13.5s\n",
      "[Parallel(n_jobs=-1)]: Done 146 tasks      | elapsed:  1.0min\n",
      "[Parallel(n_jobs=-1)]: Done 300 out of 300 | elapsed:  2.1min finished\n"
     ]
    },
    {
     "name": "stdout",
     "output_type": "stream",
     "text": [
      "Fitting 3 folds for each of 540 candidates, totalling 1620 fits\n"
     ]
    },
    {
     "name": "stderr",
     "output_type": "stream",
     "text": [
      "[Parallel(n_jobs=-1)]: Using backend LokyBackend with 8 concurrent workers.\n",
      "[Parallel(n_jobs=-1)]: Done  25 tasks      | elapsed:    7.5s\n",
      "[Parallel(n_jobs=-1)]: Done 146 tasks      | elapsed:   43.8s\n",
      "[Parallel(n_jobs=-1)]: Done 349 tasks      | elapsed:  1.9min\n",
      "[Parallel(n_jobs=-1)]: Done 632 tasks      | elapsed:  3.7min\n",
      "[Parallel(n_jobs=-1)]: Done 997 tasks      | elapsed:  6.0min\n",
      "[Parallel(n_jobs=-1)]: Done 1442 tasks      | elapsed:  8.6min\n",
      "[Parallel(n_jobs=-1)]: Done 1620 out of 1620 | elapsed:  9.6min finished\n"
     ]
    },
    {
     "name": "stdout",
     "output_type": "stream",
     "text": [
      "Fitting 3 folds for each of 100 candidates, totalling 300 fits\n"
     ]
    },
    {
     "name": "stderr",
     "output_type": "stream",
     "text": [
      "[Parallel(n_jobs=-1)]: Using backend LokyBackend with 8 concurrent workers.\n",
      "[Parallel(n_jobs=-1)]: Done  25 tasks      | elapsed:   11.9s\n",
      "[Parallel(n_jobs=-1)]: Done 146 tasks      | elapsed:  1.0min\n",
      "[Parallel(n_jobs=-1)]: Done 300 out of 300 | elapsed:  2.1min finished\n"
     ]
    },
    {
     "name": "stdout",
     "output_type": "stream",
     "text": [
      "Fitting 3 folds for each of 1080 candidates, totalling 3240 fits\n"
     ]
    },
    {
     "name": "stderr",
     "output_type": "stream",
     "text": [
      "[Parallel(n_jobs=-1)]: Using backend LokyBackend with 8 concurrent workers.\n",
      "[Parallel(n_jobs=-1)]: Done  25 tasks      | elapsed:    9.4s\n",
      "[Parallel(n_jobs=-1)]: Done 146 tasks      | elapsed:   46.7s\n",
      "[Parallel(n_jobs=-1)]: Done 349 tasks      | elapsed:  1.8min\n",
      "[Parallel(n_jobs=-1)]: Done 632 tasks      | elapsed:  3.2min\n",
      "[Parallel(n_jobs=-1)]: Done 997 tasks      | elapsed:  4.9min\n",
      "[Parallel(n_jobs=-1)]: Done 1442 tasks      | elapsed:  7.2min\n",
      "[Parallel(n_jobs=-1)]: Done 1969 tasks      | elapsed:  9.8min\n",
      "[Parallel(n_jobs=-1)]: Done 2576 tasks      | elapsed: 12.8min\n",
      "[Parallel(n_jobs=-1)]: Done 3240 out of 3240 | elapsed: 16.0min finished\n"
     ]
    },
    {
     "name": "stdout",
     "output_type": "stream",
     "text": [
      "Fitting 3 folds for each of 100 candidates, totalling 300 fits\n"
     ]
    },
    {
     "name": "stderr",
     "output_type": "stream",
     "text": [
      "[Parallel(n_jobs=-1)]: Using backend LokyBackend with 8 concurrent workers.\n",
      "[Parallel(n_jobs=-1)]: Done  25 tasks      | elapsed:   11.7s\n",
      "[Parallel(n_jobs=-1)]: Done 146 tasks      | elapsed:  1.0min\n",
      "[Parallel(n_jobs=-1)]: Done 300 out of 300 | elapsed:  2.1min finished\n"
     ]
    },
    {
     "name": "stdout",
     "output_type": "stream",
     "text": [
      "Fitting 3 folds for each of 1500 candidates, totalling 4500 fits\n"
     ]
    },
    {
     "name": "stderr",
     "output_type": "stream",
     "text": [
      "[Parallel(n_jobs=-1)]: Using backend LokyBackend with 8 concurrent workers.\n",
      "[Parallel(n_jobs=-1)]: Done  25 tasks      | elapsed:    1.7s\n",
      "[Parallel(n_jobs=-1)]: Done 146 tasks      | elapsed:   10.3s\n",
      "[Parallel(n_jobs=-1)]: Done 349 tasks      | elapsed:   24.4s\n",
      "[Parallel(n_jobs=-1)]: Done 632 tasks      | elapsed:   44.1s\n",
      "[Parallel(n_jobs=-1)]: Done 997 tasks      | elapsed:  1.2min\n",
      "[Parallel(n_jobs=-1)]: Done 1442 tasks      | elapsed:  1.7min\n",
      "[Parallel(n_jobs=-1)]: Done 1969 tasks      | elapsed:  2.4min\n",
      "[Parallel(n_jobs=-1)]: Done 2576 tasks      | elapsed:  3.1min\n",
      "[Parallel(n_jobs=-1)]: Done 3265 tasks      | elapsed:  4.0min\n",
      "[Parallel(n_jobs=-1)]: Done 4034 tasks      | elapsed:  5.0min\n",
      "[Parallel(n_jobs=-1)]: Done 4500 out of 4500 | elapsed:  5.5min finished\n"
     ]
    },
    {
     "data": {
      "image/png": "[encoded data removed]",
      "text/plain": [
       "<Figure size 432x288 with 1 Axes>"
      ]
     },
     "metadata": {
      "needs_background": "light"
     },
     "output_type": "display_data"
    }
   ],
   "source": [
    "#Main script of model\n",
    "random_forest_score=[]\n",
    "score = float()\n",
    "model_parameters_score_on_metric = dict()\n",
    "#Random Search Training\n",
    "# Use the random grid to search for best hyperparameters\n",
    "# First create the base model to tune\n",
    "rf = RandomForestRegressor()\n",
    "# Random search of parameters, using 3 fold cross validation, \n",
    "# search across 100 different combinations, and use all available cores\n",
    "rf_random = RandomizedSearchCV(estimator = rf, param_distributions = random_grid, n_iter = 100, cv = 3, \n",
    "                               verbose=2, random_state=42, n_jobs = -1)\n",
    "cv = model_selection.KFold(n_splits=5, shuffle=True)\n",
    "# Fit the random search model\n",
    "i=1\n",
    "for train, test in cv.split(X, Y):\n",
    "    \n",
    "    rf_random.fit(X.iloc[train,:], Y.iloc[train])\n",
    "    param_grid = {'bootstrap': [rf_random.best_params_['bootstrap']],\n",
    "    'max_depth': set_research_interval_max_depth(rf_random.best_params_['max_depth'],[-10,-5,-1,1,5,10]),\n",
    "    'max_features': [rf_random.best_params_['max_features']],\n",
    "    'min_samples_leaf': set_research_interval_min_sample_leaf(rf_random.best_params_['min_samples_leaf'],[-8,-3,-1,1,3,8]),\n",
    "    'min_samples_split': set_research_interval_min_sample_split(rf_random.best_params_['min_samples_split'],[-6,-2,-1,1,2,6]),\n",
    "    'n_estimators': set_research_interval_min_sample_split(rf_random.best_params_['n_estimators'],[-100,-80,-40,-20,-10,-5,5,10,20,40,80,100])\n",
    "     }\n",
    "    rf = RandomForestRegressor()\n",
    "    grid_search = GridSearchCV(estimator = rf, param_grid = param_grid, cv = 3, n_jobs = -1, verbose = 2,refit=True)\n",
    "    grid_search.fit(X.iloc[train,:], Y.iloc[train])\n",
    "    best_grid = grid_search.best_estimator_\n",
    "    y_prd=best_grid.predict(X.iloc[test,:])\n",
    "    score = r2_score(Y.iloc[test], y_prd)  \n",
    "    model_parameters_score_on_metric[\"Model_%s\"%i]= model_score_on_different_metric(Y.iloc[test], y_prd, grid_search)   \n",
    "    random_forest_score.append(score) \n",
    "    plt.scatter(y_prd, Y.iloc[test], lw=2, alpha=0.3, label='Fold %d (R2 = %0.2f)' % (i,score))\n",
    "    i= i +1\n",
    "#plot R2 scores for each model  \n",
    "plt.plot([min(Y),max(Y)], [min(Y),max(Y)], linestyle='--', lw=2, color='black')\n",
    "plt.xlabel('Predicted')\n",
    "plt.ylabel('True')\n",
    "plt.title('K-Fold Validation')\n",
    "plt.legend()\n",
    "plt.show()"
   ]
  },
  {
   "cell_type": "code",
   "execution_count": 196,
   "metadata": {},
   "outputs": [
    {
     "data": {
      "text/plain": [
       "{'Model parameters': {'bootstrap': True,\n",
       "  'max_depth': 69,\n",
       "  'max_features': 'auto',\n",
       "  'min_samples_leaf': 12,\n",
       "  'min_samples_split': 8,\n",
       "  'n_estimators': 360},\n",
       " 'Mean absolute error': 44.68198643005299,\n",
       " 'Root-mean-square error': 57.546984930309414,\n",
       " 'Coefficient of determination': 0.7149052242635214}"
      ]
     },
     "execution_count": 196,
     "metadata": {},
     "output_type": "execute_result"
    }
   ],
   "source": [
    "Best_model= random_forest_score.index(max(random_forest_score)) + 1\n",
    "model_parameters_score_on_metric['Model_%s'%Best_model]"
   ]
  },
  {
   "cell_type": "code",
   "execution_count": 197,
   "metadata": {},
   "outputs": [
    {
     "data": {
      "text/plain": [
       "{'Model_1': {'Model parameters': {'bootstrap': False,\n",
       "   'max_depth': 20,\n",
       "   'max_features': 'sqrt',\n",
       "   'min_samples_leaf': 1,\n",
       "   'min_samples_split': 8,\n",
       "   'n_estimators': 900},\n",
       "  'Mean absolute error': 52.308315300320466,\n",
       "  'Root-mean-square error': 72.81286931750445,\n",
       "  'Coefficient of determination': 0.5225055124142797},\n",
       " 'Model_2': {'Model parameters': {'bootstrap': True,\n",
       "   'max_depth': 69,\n",
       "   'max_features': 'auto',\n",
       "   'min_samples_leaf': 12,\n",
       "   'min_samples_split': 8,\n",
       "   'n_estimators': 360},\n",
       "  'Mean absolute error': 44.68198643005299,\n",
       "  'Root-mean-square error': 57.546984930309414,\n",
       "  'Coefficient of determination': 0.7149052242635214},\n",
       " 'Model_3': {'Model parameters': {'bootstrap': False,\n",
       "   'max_depth': 5,\n",
       "   'max_features': 'auto',\n",
       "   'min_samples_leaf': 9,\n",
       "   'min_samples_split': 3,\n",
       "   'n_estimators': 900},\n",
       "  'Mean absolute error': 68.9614471333966,\n",
       "  'Root-mean-square error': 83.55905759309732,\n",
       "  'Coefficient of determination': 0.33546563140876695},\n",
       " 'Model_4': {'Model parameters': {'bootstrap': True,\n",
       "   'max_depth': 91,\n",
       "   'max_features': 'sqrt',\n",
       "   'min_samples_leaf': 7,\n",
       "   'min_samples_split': 4,\n",
       "   'n_estimators': 820},\n",
       "  'Mean absolute error': 50.37911090181382,\n",
       "  'Root-mean-square error': 66.03737094373783,\n",
       "  'Coefficient of determination': 0.5974509069519354},\n",
       " 'Model_5': {'Model parameters': {'bootstrap': True,\n",
       "   'max_depth': 9,\n",
       "   'max_features': 'auto',\n",
       "   'min_samples_leaf': 12,\n",
       "   'min_samples_split': 6,\n",
       "   'n_estimators': 160},\n",
       "  'Mean absolute error': 48.73938005837048,\n",
       "  'Root-mean-square error': 62.96191641495022,\n",
       "  'Coefficient of determination': 0.6362641077731889}}"
      ]
     },
     "execution_count": 197,
     "metadata": {},
     "output_type": "execute_result"
    }
   ],
   "source": [
    "# Models parameters \n",
    "model_parameters_score_on_metric"
   ]
  },
  {
   "cell_type": "code",
   "execution_count": 220,
   "metadata": {},
   "outputs": [],
   "source": [
    "#Compute average error on each metric for the random-forest model\n",
    "#sum_Mean_absolute_error = 0\n",
    "sum_Root_mean_square_error = 0\n",
    "sum_Coefficient_of_determination = 0\n",
    "\n",
    "for model in model_parameters_score_on_metric:\n",
    "    sum_Mean_absolute_error= sum_Mean_absolute_error+ model_parameters_score_on_metric[model]['Mean absolute error']\n",
    "    sum_Root_mean_square_error= sum_Root_mean_square_error + model_parameters_score_on_metric[model]['Root-mean-square error']\n",
    "    sum_Coefficient_of_determination= sum_Coefficient_of_determination + model_parameters_score_on_metric[model]['Coefficient of determination']\n",
    "\n",
    "    \n",
    "average_Mean_absolute_error = sum_Mean_absolute_error / len(model_parameters_score_on_metric)\n",
    "average_Root_mean_square_error = sum_Root_mean_square_error / len(model_parameters_score_on_metric)\n",
    "average_Coefficient_of_determination = sum_Coefficient_of_determination / len(model_parameters_score_on_metric)"
   ]
  },
  {
   "cell_type": "code",
   "execution_count": 223,
   "metadata": {},
   "outputs": [
    {
     "name": "stdout",
     "output_type": "stream",
     "text": [
      "-----------------------SCORE_RANDOM_FOREST_MODEL------------------------------\n",
      "\n",
      "\n",
      "Average Root mean square error:68.58363983991985\n",
      "\n",
      "Average Coefficient of determination:0.5613182765623385\n"
     ]
    }
   ],
   "source": [
    "# print scores on different metric\n",
    "print(\"-----------------------SCORE_RANDOM_FOREST_MODEL------------------------------\\n\")\n",
    "#print('Average Mean absolute error:%s'%average_Mean_absolute_error)\n",
    "print('\\nAverage Root mean square error:%s'%average_Root_mean_square_error)\n",
    "print('\\nAverage Coefficient of determination:%s'%average_Coefficient_of_determination)"
   ]
  },
  {
   "cell_type": "code",
   "execution_count": null,
   "metadata": {},
   "outputs": [],
   "source": [
    "#Days"
   ]
  },
  {
   "cell_type": "code",
   "execution_count": 203,
   "metadata": {},
   "outputs": [],
   "source": [
    "df1 = df.copy()"
   ]
  },
  {
   "cell_type": "code",
   "execution_count": 204,
   "metadata": {},
   "outputs": [
    {
     "data": {
      "text/html": [
       "<div>\n",
       "<style scoped>\n",
       "    .dataframe tbody tr th:only-of-type {\n",
       "        vertical-align: middle;\n",
       "    }\n",
       "\n",
       "    .dataframe tbody tr th {\n",
       "        vertical-align: top;\n",
       "    }\n",
       "\n",
       "    .dataframe thead th {\n",
       "        text-align: right;\n",
       "    }\n",
       "</style>\n",
       "<table border=\"1\" class=\"dataframe\">\n",
       "  <thead>\n",
       "    <tr style=\"text-align: right;\">\n",
       "      <th></th>\n",
       "      <th>irradiation</th>\n",
       "      <th>temperature</th>\n",
       "    </tr>\n",
       "    <tr>\n",
       "      <th>time(UTC)</th>\n",
       "      <th></th>\n",
       "      <th></th>\n",
       "    </tr>\n",
       "  </thead>\n",
       "  <tbody>\n",
       "    <tr>\n",
       "      <th>2017-01-01</th>\n",
       "      <td>0.802334</td>\n",
       "      <td>0.720098</td>\n",
       "    </tr>\n",
       "    <tr>\n",
       "      <th>2017-01-01</th>\n",
       "      <td>1.000000</td>\n",
       "      <td>1.154616</td>\n",
       "    </tr>\n",
       "    <tr>\n",
       "      <th>2017-01-01</th>\n",
       "      <td>0.891393</td>\n",
       "      <td>1.304207</td>\n",
       "    </tr>\n",
       "    <tr>\n",
       "      <th>2017-01-01</th>\n",
       "      <td>0.837256</td>\n",
       "      <td>1.079527</td>\n",
       "    </tr>\n",
       "    <tr>\n",
       "      <th>2017-01-01</th>\n",
       "      <td>0.848814</td>\n",
       "      <td>0.649967</td>\n",
       "    </tr>\n",
       "    <tr>\n",
       "      <th>...</th>\n",
       "      <td>...</td>\n",
       "      <td>...</td>\n",
       "    </tr>\n",
       "    <tr>\n",
       "      <th>2021-03-10</th>\n",
       "      <td>0.770375</td>\n",
       "      <td>3.713455</td>\n",
       "    </tr>\n",
       "    <tr>\n",
       "      <th>2021-03-10</th>\n",
       "      <td>0.987695</td>\n",
       "      <td>2.694212</td>\n",
       "    </tr>\n",
       "    <tr>\n",
       "      <th>2021-03-10</th>\n",
       "      <td>0.987637</td>\n",
       "      <td>1.834956</td>\n",
       "    </tr>\n",
       "    <tr>\n",
       "      <th>2021-03-10</th>\n",
       "      <td>0.993837</td>\n",
       "      <td>1.209808</td>\n",
       "    </tr>\n",
       "    <tr>\n",
       "      <th>2021-03-10</th>\n",
       "      <td>0.987654</td>\n",
       "      <td>0.613663</td>\n",
       "    </tr>\n",
       "  </tbody>\n",
       "</table>\n",
       "<p>36720 rows × 2 columns</p>\n",
       "</div>"
      ],
      "text/plain": [
       "            irradiation  temperature\n",
       "time(UTC)                           \n",
       "2017-01-01     0.802334     0.720098\n",
       "2017-01-01     1.000000     1.154616\n",
       "2017-01-01     0.891393     1.304207\n",
       "2017-01-01     0.837256     1.079527\n",
       "2017-01-01     0.848814     0.649967\n",
       "...                 ...          ...\n",
       "2021-03-10     0.770375     3.713455\n",
       "2021-03-10     0.987695     2.694212\n",
       "2021-03-10     0.987637     1.834956\n",
       "2021-03-10     0.993837     1.209808\n",
       "2021-03-10     0.987654     0.613663\n",
       "\n",
       "[36720 rows x 2 columns]"
      ]
     },
     "execution_count": 204,
     "metadata": {},
     "output_type": "execute_result"
    }
   ],
   "source": [
    "df1"
   ]
  },
  {
   "cell_type": "code",
   "execution_count": 205,
   "metadata": {},
   "outputs": [
    {
     "data": {
      "text/plain": [
       "<pandas.core.resample.DatetimeIndexResampler object at 0x000001CB42710C40>"
      ]
     },
     "execution_count": 205,
     "metadata": {},
     "output_type": "execute_result"
    }
   ],
   "source": [
    "df1.resample('W', label='left')"
   ]
  },
  {
   "cell_type": "code",
   "execution_count": 207,
   "metadata": {},
   "outputs": [],
   "source": [
    "opsd_weekly_mean = df1['irradiation'].resample('W').mean()"
   ]
  },
  {
   "cell_type": "code",
   "execution_count": 208,
   "metadata": {},
   "outputs": [
    {
     "data": {
      "text/plain": [
       "DatetimeIndex(['2017-01-01', '2017-01-08', '2017-01-15', '2017-01-22',\n",
       "               '2017-01-29', '2017-02-05', '2017-02-12', '2017-02-19',\n",
       "               '2017-02-26', '2017-03-05',\n",
       "               ...\n",
       "               '2021-01-10', '2021-01-17', '2021-01-24', '2021-01-31',\n",
       "               '2021-02-07', '2021-02-14', '2021-02-21', '2021-02-28',\n",
       "               '2021-03-07', '2021-03-14'],\n",
       "              dtype='datetime64[ns]', name='time(UTC)', length=220, freq='W-SUN')"
      ]
     },
     "execution_count": 208,
     "metadata": {},
     "output_type": "execute_result"
    }
   ],
   "source": [
    "opsd_weekly_mean.index"
   ]
  },
  {
   "cell_type": "code",
   "execution_count": 211,
   "metadata": {},
   "outputs": [],
   "source": [
    "df1_w = pd.DataFrame(data=opsd_weekly_mean, index=opsd_weekly_mean.index)"
   ]
  },
  {
   "cell_type": "code",
   "execution_count": 213,
   "metadata": {},
   "outputs": [
    {
     "data": {
      "text/html": [
       "<div>\n",
       "<style scoped>\n",
       "    .dataframe tbody tr th:only-of-type {\n",
       "        vertical-align: middle;\n",
       "    }\n",
       "\n",
       "    .dataframe tbody tr th {\n",
       "        vertical-align: top;\n",
       "    }\n",
       "\n",
       "    .dataframe thead th {\n",
       "        text-align: right;\n",
       "    }\n",
       "</style>\n",
       "<table border=\"1\" class=\"dataframe\">\n",
       "  <thead>\n",
       "    <tr style=\"text-align: right;\">\n",
       "      <th></th>\n",
       "      <th>irradiation</th>\n",
       "      <th>time(UTC)</th>\n",
       "    </tr>\n",
       "  </thead>\n",
       "  <tbody>\n",
       "    <tr>\n",
       "      <th>0</th>\n",
       "      <td>98.824703</td>\n",
       "      <td>2017-01-01</td>\n",
       "    </tr>\n",
       "    <tr>\n",
       "      <th>1</th>\n",
       "      <td>41.115110</td>\n",
       "      <td>2017-01-08</td>\n",
       "    </tr>\n",
       "    <tr>\n",
       "      <th>2</th>\n",
       "      <td>48.468265</td>\n",
       "      <td>2017-01-15</td>\n",
       "    </tr>\n",
       "    <tr>\n",
       "      <th>3</th>\n",
       "      <td>37.737983</td>\n",
       "      <td>2017-01-22</td>\n",
       "    </tr>\n",
       "    <tr>\n",
       "      <th>4</th>\n",
       "      <td>83.020672</td>\n",
       "      <td>2017-01-29</td>\n",
       "    </tr>\n",
       "    <tr>\n",
       "      <th>...</th>\n",
       "      <td>...</td>\n",
       "      <td>...</td>\n",
       "    </tr>\n",
       "    <tr>\n",
       "      <th>215</th>\n",
       "      <td>45.429489</td>\n",
       "      <td>2021-02-14</td>\n",
       "    </tr>\n",
       "    <tr>\n",
       "      <th>216</th>\n",
       "      <td>102.149481</td>\n",
       "      <td>2021-02-21</td>\n",
       "    </tr>\n",
       "    <tr>\n",
       "      <th>217</th>\n",
       "      <td>144.057295</td>\n",
       "      <td>2021-02-28</td>\n",
       "    </tr>\n",
       "    <tr>\n",
       "      <th>218</th>\n",
       "      <td>120.496597</td>\n",
       "      <td>2021-03-07</td>\n",
       "    </tr>\n",
       "    <tr>\n",
       "      <th>219</th>\n",
       "      <td>174.047935</td>\n",
       "      <td>2021-03-14</td>\n",
       "    </tr>\n",
       "  </tbody>\n",
       "</table>\n",
       "<p>220 rows × 2 columns</p>\n",
       "</div>"
      ],
      "text/plain": [
       "     irradiation  time(UTC)\n",
       "0      98.824703 2017-01-01\n",
       "1      41.115110 2017-01-08\n",
       "2      48.468265 2017-01-15\n",
       "3      37.737983 2017-01-22\n",
       "4      83.020672 2017-01-29\n",
       "..           ...        ...\n",
       "215    45.429489 2021-02-14\n",
       "216   102.149481 2021-02-21\n",
       "217   144.057295 2021-02-28\n",
       "218   120.496597 2021-03-07\n",
       "219   174.047935 2021-03-14\n",
       "\n",
       "[220 rows x 2 columns]"
      ]
     },
     "execution_count": 213,
     "metadata": {},
     "output_type": "execute_result"
    }
   ],
   "source": [
    "df1_w['time(UTC)']=opsd_weekly_mean.index\n",
    "df1_w.reset_index(drop=True, inplace=True)\n",
    "df1_w"
   ]
  },
  {
   "cell_type": "code",
   "execution_count": 214,
   "metadata": {},
   "outputs": [
    {
     "data": {
      "text/plain": [
       "Text(0, 0.5, '$G (kW-hr/m^2/week)$')"
      ]
     },
     "execution_count": 214,
     "metadata": {},
     "output_type": "execute_result"
    },
    {
     "data": {
      "text/plain": [
       "<Figure size 360x2160 with 0 Axes>"
      ]
     },
     "metadata": {},
     "output_type": "display_data"
    },
    {
     "data": {
      "image/png": "[encoded data removed]",
      "text/plain": [
       "<Figure size 432x288 with 1 Axes>"
      ]
     },
     "metadata": {
      "needs_background": "light"
     },
     "output_type": "display_data"
    }
   ],
   "source": [
    "plt.figure(figsize=(5,30))\n",
    "ax = df1_w.plot(x='time(UTC)', y='irradiation');\n",
    "ax.set_xlabel(\"Date\")\n",
    "ax.set_ylabel(r'$G (kW-hr/m^2/week)$')"
   ]
  },
  {
   "cell_type": "code",
   "execution_count": 215,
   "metadata": {},
   "outputs": [],
   "source": [
    "#Initialize random grid of hyper-params\n",
    "# Number of trees in random forest\n",
    "n_estimators = [int(x) for x in np.linspace(start = 200, stop = 2000, num = 10)]\n",
    "# Number of features to consider at every split\n",
    "max_features = ['auto', 'sqrt']\n",
    "# Maximum number of levels in tree\n",
    "max_depth = [int(x) for x in np.linspace(10, 110, num = 11)]\n",
    "max_depth.append(None)\n",
    "# Minimum number of samples required to split a node\n",
    "min_samples_split = [2, 5, 10]\n",
    "# Minimum number of samples required at each leaf node\n",
    "min_samples_leaf = [1, 2, 4]\n",
    "# Method of selecting samples for training each tree\n",
    "bootstrap = [True, False]\n",
    "# Create the random grid\n",
    "random_grid = {'n_estimators': n_estimators,\n",
    "               'max_features': max_features,\n",
    "               'max_depth': max_depth,\n",
    "               'min_samples_split': min_samples_split,\n",
    "               'min_samples_leaf': min_samples_leaf,\n",
    "               'bootstrap': bootstrap}"
   ]
  },
  {
   "cell_type": "code",
   "execution_count": 216,
   "metadata": {},
   "outputs": [],
   "source": [
    "# dictionary of model params/scores computed on different metric\n",
    "def model_score_on_different_metric(y_test, y_pred,model_fit):\n",
    "    score_on_metric_dic =dict()\n",
    "    score_on_metric_dic['Model parameters']= model_fit.best_params_\n",
    "    score_on_metric_dic['Mean absolute error']= mean_absolute_error(y_test, y_pred)\n",
    "    score_on_metric_dic['Root-mean-square error']=sqrt(mean_squared_error(y_test, y_pred))\n",
    "    score_on_metric_dic['Coefficient of determination']= r2_score(y_test, y_pred)\n",
    "    return score_on_metric_dic\n",
    "\n",
    "#functions to control the research  of hyper-parameters\n",
    "def set_research_interval_min_sample_leaf(min_samples_leaf, setting_larger_search_interval ):\n",
    "    min_simple_leaf_interval = list()\n",
    "    min_simple_leaf_interval = [min_samples_leaf+i for i in setting_larger_search_interval if (min_samples_leaf+i)>=1]\n",
    "    return min_simple_leaf_interval\n",
    "\n",
    "def set_research_interval_min_sample_split(min_samples_split, setting_larger_search_interval ):\n",
    "    min_simple_split_interval = list()\n",
    "    min_simple_split_interval = [min_samples_split+i for i in setting_larger_search_interval \n",
    "                                     if (min_samples_split+i) >=2]\n",
    "    return min_simple_split_interval\n",
    "\n",
    "def set_research_interval_n_estimators(n_estimators, setting_larger_search_interval ):\n",
    "    n_estimators_interval = list()\n",
    "    n_estimators_interval = [n_estimators+i for i in setting_larger_search_interval \n",
    "                                     if (n_estimators+i) >=100]\n",
    "    return n_estimators_interval\n",
    "\n",
    "def set_research_interval_max_depth(max_depth, setting_larger_search_interval ):\n",
    "    max_depth_interval = list()\n",
    "    max_depth_interval = [max_depth+i for i in setting_larger_search_interval \n",
    "                                     if (max_depth+i) >=2]\n",
    "    return  max_depth_interval"
   ]
  },
  {
   "cell_type": "code",
   "execution_count": 219,
   "metadata": {},
   "outputs": [
    {
     "data": {
      "text/plain": [
       "0       98.824703\n",
       "1       41.115110\n",
       "2       48.468265\n",
       "3       37.737983\n",
       "4       83.020672\n",
       "          ...    \n",
       "215     45.429489\n",
       "216    102.149481\n",
       "217    144.057295\n",
       "218    120.496597\n",
       "219    174.047935\n",
       "Name: irradiation, Length: 220, dtype: float64"
      ]
     },
     "execution_count": 219,
     "metadata": {},
     "output_type": "execute_result"
    }
   ],
   "source": [
    "X = df1_w.drop(columns='irradiation')\n",
    "Y = df1_w['irradiation']\n",
    "X\n",
    "Y"
   ]
  },
  {
   "cell_type": "code",
   "execution_count": 224,
   "metadata": {},
   "outputs": [
    {
     "name": "stdout",
     "output_type": "stream",
     "text": [
      "Fitting 3 folds for each of 100 candidates, totalling 300 fits\n"
     ]
    },
    {
     "name": "stderr",
     "output_type": "stream",
     "text": [
      "[Parallel(n_jobs=-1)]: Using backend LokyBackend with 8 concurrent workers.\n",
      "[Parallel(n_jobs=-1)]: Done  25 tasks      | elapsed:   11.9s\n",
      "[Parallel(n_jobs=-1)]: Done 146 tasks      | elapsed:   43.2s\n",
      "[Parallel(n_jobs=-1)]: Done 300 out of 300 | elapsed:  1.5min finished\n"
     ]
    },
    {
     "name": "stdout",
     "output_type": "stream",
     "text": [
      "Fitting 3 folds for each of 2160 candidates, totalling 6480 fits\n"
     ]
    },
    {
     "name": "stderr",
     "output_type": "stream",
     "text": [
      "[Parallel(n_jobs=-1)]: Using backend LokyBackend with 8 concurrent workers.\n",
      "[Parallel(n_jobs=-1)]: Done  25 tasks      | elapsed:    6.7s\n",
      "[Parallel(n_jobs=-1)]: Done 146 tasks      | elapsed:   34.7s\n",
      "[Parallel(n_jobs=-1)]: Done 349 tasks      | elapsed:  1.4min\n",
      "[Parallel(n_jobs=-1)]: Done 632 tasks      | elapsed:  2.6min\n",
      "[Parallel(n_jobs=-1)]: Done 997 tasks      | elapsed:  4.1min\n",
      "[Parallel(n_jobs=-1)]: Done 1442 tasks      | elapsed:  6.0min\n",
      "[Parallel(n_jobs=-1)]: Done 1969 tasks      | elapsed:  8.2min\n",
      "[Parallel(n_jobs=-1)]: Done 2576 tasks      | elapsed: 10.8min\n",
      "[Parallel(n_jobs=-1)]: Done 3265 tasks      | elapsed: 13.7min\n",
      "[Parallel(n_jobs=-1)]: Done 4034 tasks      | elapsed: 16.9min\n",
      "[Parallel(n_jobs=-1)]: Done 4885 tasks      | elapsed: 20.6min\n",
      "[Parallel(n_jobs=-1)]: Done 5816 tasks      | elapsed: 24.6min\n",
      "[Parallel(n_jobs=-1)]: Done 6480 out of 6480 | elapsed: 27.7min finished\n"
     ]
    },
    {
     "name": "stdout",
     "output_type": "stream",
     "text": [
      "Fitting 3 folds for each of 100 candidates, totalling 300 fits\n"
     ]
    },
    {
     "name": "stderr",
     "output_type": "stream",
     "text": [
      "[Parallel(n_jobs=-1)]: Using backend LokyBackend with 8 concurrent workers.\n",
      "[Parallel(n_jobs=-1)]: Done  25 tasks      | elapsed:    9.8s\n",
      "[Parallel(n_jobs=-1)]: Done 146 tasks      | elapsed:   47.3s\n",
      "[Parallel(n_jobs=-1)]: Done 300 out of 300 | elapsed:  1.6min finished\n"
     ]
    },
    {
     "name": "stdout",
     "output_type": "stream",
     "text": [
      "Fitting 3 folds for each of 1800 candidates, totalling 5400 fits\n"
     ]
    },
    {
     "name": "stderr",
     "output_type": "stream",
     "text": [
      "[Parallel(n_jobs=-1)]: Using backend LokyBackend with 8 concurrent workers.\n",
      "[Parallel(n_jobs=-1)]: Done  25 tasks      | elapsed:    1.5s\n",
      "[Parallel(n_jobs=-1)]: Done 146 tasks      | elapsed:    9.4s\n",
      "[Parallel(n_jobs=-1)]: Done 349 tasks      | elapsed:   22.4s\n",
      "[Parallel(n_jobs=-1)]: Done 632 tasks      | elapsed:   40.2s\n",
      "[Parallel(n_jobs=-1)]: Done 997 tasks      | elapsed:  1.1min\n",
      "[Parallel(n_jobs=-1)]: Done 1442 tasks      | elapsed:  1.5min\n",
      "[Parallel(n_jobs=-1)]: Done 1969 tasks      | elapsed:  2.1min\n",
      "[Parallel(n_jobs=-1)]: Done 2576 tasks      | elapsed:  2.8min\n",
      "[Parallel(n_jobs=-1)]: Done 3265 tasks      | elapsed:  3.5min\n",
      "[Parallel(n_jobs=-1)]: Done 4034 tasks      | elapsed:  4.4min\n",
      "[Parallel(n_jobs=-1)]: Done 4885 tasks      | elapsed:  5.5min\n",
      "[Parallel(n_jobs=-1)]: Done 5400 out of 5400 | elapsed:  6.0min finished\n"
     ]
    },
    {
     "name": "stdout",
     "output_type": "stream",
     "text": [
      "Fitting 3 folds for each of 100 candidates, totalling 300 fits\n"
     ]
    },
    {
     "name": "stderr",
     "output_type": "stream",
     "text": [
      "[Parallel(n_jobs=-1)]: Using backend LokyBackend with 8 concurrent workers.\n",
      "[Parallel(n_jobs=-1)]: Done  25 tasks      | elapsed:    8.7s\n",
      "[Parallel(n_jobs=-1)]: Done 146 tasks      | elapsed:   44.3s\n",
      "[Parallel(n_jobs=-1)]: Done 300 out of 300 | elapsed:  1.5min finished\n"
     ]
    },
    {
     "name": "stdout",
     "output_type": "stream",
     "text": [
      "Fitting 3 folds for each of 2160 candidates, totalling 6480 fits\n"
     ]
    },
    {
     "name": "stderr",
     "output_type": "stream",
     "text": [
      "[Parallel(n_jobs=-1)]: Using backend LokyBackend with 8 concurrent workers.\n",
      "[Parallel(n_jobs=-1)]: Done  25 tasks      | elapsed:    3.1s\n",
      "[Parallel(n_jobs=-1)]: Done 146 tasks      | elapsed:   17.9s\n",
      "[Parallel(n_jobs=-1)]: Done 349 tasks      | elapsed:   42.7s\n",
      "[Parallel(n_jobs=-1)]: Done 632 tasks      | elapsed:  1.3min\n",
      "[Parallel(n_jobs=-1)]: Done 997 tasks      | elapsed:  2.0min\n",
      "[Parallel(n_jobs=-1)]: Done 1442 tasks      | elapsed:  2.9min\n",
      "[Parallel(n_jobs=-1)]: Done 1969 tasks      | elapsed:  4.0min\n",
      "[Parallel(n_jobs=-1)]: Done 2576 tasks      | elapsed:  5.2min\n",
      "[Parallel(n_jobs=-1)]: Done 3265 tasks      | elapsed:  6.6min\n",
      "[Parallel(n_jobs=-1)]: Done 4034 tasks      | elapsed:  8.2min\n",
      "[Parallel(n_jobs=-1)]: Done 4885 tasks      | elapsed: 10.0min\n",
      "[Parallel(n_jobs=-1)]: Done 5816 tasks      | elapsed: 11.9min\n",
      "[Parallel(n_jobs=-1)]: Done 6480 out of 6480 | elapsed: 13.2min finished\n"
     ]
    },
    {
     "name": "stdout",
     "output_type": "stream",
     "text": [
      "Fitting 3 folds for each of 100 candidates, totalling 300 fits\n"
     ]
    },
    {
     "name": "stderr",
     "output_type": "stream",
     "text": [
      "[Parallel(n_jobs=-1)]: Using backend LokyBackend with 8 concurrent workers.\n",
      "[Parallel(n_jobs=-1)]: Done  25 tasks      | elapsed:    8.9s\n",
      "[Parallel(n_jobs=-1)]: Done 146 tasks      | elapsed:   43.7s\n",
      "[Parallel(n_jobs=-1)]: Done 300 out of 300 | elapsed:  1.5min finished\n"
     ]
    },
    {
     "name": "stdout",
     "output_type": "stream",
     "text": [
      "Fitting 3 folds for each of 2160 candidates, totalling 6480 fits\n"
     ]
    },
    {
     "name": "stderr",
     "output_type": "stream",
     "text": [
      "[Parallel(n_jobs=-1)]: Using backend LokyBackend with 8 concurrent workers.\n",
      "[Parallel(n_jobs=-1)]: Done  25 tasks      | elapsed:    6.7s\n",
      "[Parallel(n_jobs=-1)]: Done 146 tasks      | elapsed:   36.4s\n",
      "[Parallel(n_jobs=-1)]: Done 349 tasks      | elapsed:  1.5min\n",
      "[Parallel(n_jobs=-1)]: Done 632 tasks      | elapsed:  2.6min\n",
      "[Parallel(n_jobs=-1)]: Done 997 tasks      | elapsed:  4.1min\n",
      "[Parallel(n_jobs=-1)]: Done 1442 tasks      | elapsed:  5.9min\n",
      "[Parallel(n_jobs=-1)]: Done 1969 tasks      | elapsed:  8.1min\n",
      "[Parallel(n_jobs=-1)]: Done 2576 tasks      | elapsed: 10.5min\n",
      "[Parallel(n_jobs=-1)]: Done 3265 tasks      | elapsed: 13.4min\n",
      "[Parallel(n_jobs=-1)]: Done 4034 tasks      | elapsed: 16.5min\n",
      "[Parallel(n_jobs=-1)]: Done 4885 tasks      | elapsed: 20.0min\n",
      "[Parallel(n_jobs=-1)]: Done 5816 tasks      | elapsed: 24.1min\n",
      "[Parallel(n_jobs=-1)]: Done 6480 out of 6480 | elapsed: 27.4min finished\n"
     ]
    },
    {
     "name": "stdout",
     "output_type": "stream",
     "text": [
      "Fitting 3 folds for each of 100 candidates, totalling 300 fits\n"
     ]
    },
    {
     "name": "stderr",
     "output_type": "stream",
     "text": [
      "[Parallel(n_jobs=-1)]: Using backend LokyBackend with 8 concurrent workers.\n",
      "[Parallel(n_jobs=-1)]: Done  25 tasks      | elapsed:   10.1s\n",
      "[Parallel(n_jobs=-1)]: Done 146 tasks      | elapsed:   50.2s\n",
      "[Parallel(n_jobs=-1)]: Done 300 out of 300 | elapsed:  1.8min finished\n"
     ]
    },
    {
     "name": "stdout",
     "output_type": "stream",
     "text": [
      "Fitting 3 folds for each of 648 candidates, totalling 1944 fits\n"
     ]
    },
    {
     "name": "stderr",
     "output_type": "stream",
     "text": [
      "[Parallel(n_jobs=-1)]: Using backend LokyBackend with 8 concurrent workers.\n",
      "[Parallel(n_jobs=-1)]: Done  25 tasks      | elapsed:   12.6s\n",
      "[Parallel(n_jobs=-1)]: Done 146 tasks      | elapsed:  1.2min\n",
      "[Parallel(n_jobs=-1)]: Done 349 tasks      | elapsed:  2.9min\n",
      "[Parallel(n_jobs=-1)]: Done 632 tasks      | elapsed:  5.2min\n",
      "[Parallel(n_jobs=-1)]: Done 997 tasks      | elapsed:  8.5min\n",
      "[Parallel(n_jobs=-1)]: Done 1442 tasks      | elapsed: 12.7min\n",
      "[Parallel(n_jobs=-1)]: Done 1944 out of 1944 | elapsed: 16.9min finished\n"
     ]
    },
    {
     "data": {
      "image/png": "[encoded data removed]",
      "text/plain": [
       "<Figure size 432x288 with 1 Axes>"
      ]
     },
     "metadata": {
      "needs_background": "light"
     },
     "output_type": "display_data"
    }
   ],
   "source": [
    "#Main script of model\n",
    "random_forest_score=[]\n",
    "score = float()\n",
    "model_parameters_score_on_metric = dict()\n",
    "#Random Search Training\n",
    "# Use the random grid to search for best hyperparameters\n",
    "# First create the base model to tune\n",
    "rf = RandomForestRegressor()\n",
    "# Random search of parameters, using 3 fold cross validation, \n",
    "# search across 100 different combinations, and use all available cores\n",
    "rf_random = RandomizedSearchCV(estimator = rf, param_distributions = random_grid, n_iter = 100, cv = 3, \n",
    "                               verbose=2, random_state=42, n_jobs = -1)\n",
    "cv = model_selection.KFold(n_splits=5, shuffle=True)\n",
    "# Fit the random search model\n",
    "i=1\n",
    "for train, test in cv.split(X, Y):\n",
    "    \n",
    "    rf_random.fit(X.iloc[train,:], Y.iloc[train])\n",
    "    param_grid = {'bootstrap': [rf_random.best_params_['bootstrap']],\n",
    "    'max_depth': set_research_interval_max_depth(rf_random.best_params_['max_depth'],[-10,-5,-1,1,5,10]),\n",
    "    'max_features': [rf_random.best_params_['max_features']],\n",
    "    'min_samples_leaf': set_research_interval_min_sample_leaf(rf_random.best_params_['min_samples_leaf'],[-8,-3,-1,1,3,8]),\n",
    "    'min_samples_split': set_research_interval_min_sample_split(rf_random.best_params_['min_samples_split'],[-6,-2,-1,1,2,6]),\n",
    "    'n_estimators': set_research_interval_min_sample_split(rf_random.best_params_['n_estimators'],[-100,-80,-40,-20,-10,-5,5,10,20,40,80,100])\n",
    "     }\n",
    "    rf = RandomForestRegressor()\n",
    "    grid_search = GridSearchCV(estimator = rf, param_grid = param_grid, cv = 3, n_jobs = -1, verbose = 2,refit=True)\n",
    "    grid_search.fit(X.iloc[train,:], Y.iloc[train])\n",
    "    best_grid = grid_search.best_estimator_\n",
    "    y_prd=best_grid.predict(X.iloc[test,:])\n",
    "    score = r2_score(Y.iloc[test], y_prd)  \n",
    "    model_parameters_score_on_metric[\"Model_%s\"%i]= model_score_on_different_metric(Y.iloc[test], y_prd, grid_search)   \n",
    "    random_forest_score.append(score) \n",
    "    plt.scatter(y_prd, Y.iloc[test], lw=2, alpha=0.3, label='Fold %d (R2 = %0.2f)' % (i,score))\n",
    "    i= i +1\n",
    "#plot R2 scores for each model  \n",
    "plt.plot([min(Y),max(Y)], [min(Y),max(Y)], linestyle='--', lw=2, color='black')\n",
    "plt.xlabel('Predicted')\n",
    "plt.ylabel('True')\n",
    "plt.title('K-Fold Validation')\n",
    "plt.legend()\n",
    "plt.show()"
   ]
  },
  {
   "cell_type": "code",
   "execution_count": 225,
   "metadata": {},
   "outputs": [
    {
     "data": {
      "text/plain": [
       "{'Model parameters': {'bootstrap': True,\n",
       "  'max_depth': 69,\n",
       "  'max_features': 'auto',\n",
       "  'min_samples_leaf': 3,\n",
       "  'min_samples_split': 11,\n",
       "  'n_estimators': 320},\n",
       " 'Mean absolute error': 35.28805874113633,\n",
       " 'Root-mean-square error': 49.904018230431575,\n",
       " 'Coefficient of determination': 0.725608538766678}"
      ]
     },
     "execution_count": 225,
     "metadata": {},
     "output_type": "execute_result"
    }
   ],
   "source": [
    "Best_model= random_forest_score.index(max(random_forest_score)) + 1\n",
    "model_parameters_score_on_metric['Model_%s'%Best_model]"
   ]
  },
  {
   "cell_type": "code",
   "execution_count": 226,
   "metadata": {},
   "outputs": [],
   "source": [
    "#Months"
   ]
  },
  {
   "cell_type": "code",
   "execution_count": 227,
   "metadata": {},
   "outputs": [],
   "source": [
    "df2 = df.copy()"
   ]
  },
  {
   "cell_type": "code",
   "execution_count": 234,
   "metadata": {},
   "outputs": [
    {
     "data": {
      "text/html": [
       "<div>\n",
       "<style scoped>\n",
       "    .dataframe tbody tr th:only-of-type {\n",
       "        vertical-align: middle;\n",
       "    }\n",
       "\n",
       "    .dataframe tbody tr th {\n",
       "        vertical-align: top;\n",
       "    }\n",
       "\n",
       "    .dataframe thead th {\n",
       "        text-align: right;\n",
       "    }\n",
       "</style>\n",
       "<table border=\"1\" class=\"dataframe\">\n",
       "  <thead>\n",
       "    <tr style=\"text-align: right;\">\n",
       "      <th></th>\n",
       "      <th>irradiation</th>\n",
       "      <th>temperature</th>\n",
       "    </tr>\n",
       "    <tr>\n",
       "      <th>time(UTC)</th>\n",
       "      <th></th>\n",
       "      <th></th>\n",
       "    </tr>\n",
       "  </thead>\n",
       "  <tbody>\n",
       "    <tr>\n",
       "      <th>2017-01-01</th>\n",
       "      <td>0.802334</td>\n",
       "      <td>0.720098</td>\n",
       "    </tr>\n",
       "    <tr>\n",
       "      <th>2017-01-01</th>\n",
       "      <td>1.000000</td>\n",
       "      <td>1.154616</td>\n",
       "    </tr>\n",
       "    <tr>\n",
       "      <th>2017-01-01</th>\n",
       "      <td>0.891393</td>\n",
       "      <td>1.304207</td>\n",
       "    </tr>\n",
       "    <tr>\n",
       "      <th>2017-01-01</th>\n",
       "      <td>0.837256</td>\n",
       "      <td>1.079527</td>\n",
       "    </tr>\n",
       "    <tr>\n",
       "      <th>2017-01-01</th>\n",
       "      <td>0.848814</td>\n",
       "      <td>0.649967</td>\n",
       "    </tr>\n",
       "    <tr>\n",
       "      <th>...</th>\n",
       "      <td>...</td>\n",
       "      <td>...</td>\n",
       "    </tr>\n",
       "    <tr>\n",
       "      <th>2021-03-10</th>\n",
       "      <td>0.770375</td>\n",
       "      <td>3.713455</td>\n",
       "    </tr>\n",
       "    <tr>\n",
       "      <th>2021-03-10</th>\n",
       "      <td>0.987695</td>\n",
       "      <td>2.694212</td>\n",
       "    </tr>\n",
       "    <tr>\n",
       "      <th>2021-03-10</th>\n",
       "      <td>0.987637</td>\n",
       "      <td>1.834956</td>\n",
       "    </tr>\n",
       "    <tr>\n",
       "      <th>2021-03-10</th>\n",
       "      <td>0.993837</td>\n",
       "      <td>1.209808</td>\n",
       "    </tr>\n",
       "    <tr>\n",
       "      <th>2021-03-10</th>\n",
       "      <td>0.987654</td>\n",
       "      <td>0.613663</td>\n",
       "    </tr>\n",
       "  </tbody>\n",
       "</table>\n",
       "<p>36720 rows × 2 columns</p>\n",
       "</div>"
      ],
      "text/plain": [
       "            irradiation  temperature\n",
       "time(UTC)                           \n",
       "2017-01-01     0.802334     0.720098\n",
       "2017-01-01     1.000000     1.154616\n",
       "2017-01-01     0.891393     1.304207\n",
       "2017-01-01     0.837256     1.079527\n",
       "2017-01-01     0.848814     0.649967\n",
       "...                 ...          ...\n",
       "2021-03-10     0.770375     3.713455\n",
       "2021-03-10     0.987695     2.694212\n",
       "2021-03-10     0.987637     1.834956\n",
       "2021-03-10     0.993837     1.209808\n",
       "2021-03-10     0.987654     0.613663\n",
       "\n",
       "[36720 rows x 2 columns]"
      ]
     },
     "execution_count": 234,
     "metadata": {},
     "output_type": "execute_result"
    }
   ],
   "source": [
    "df2"
   ]
  },
  {
   "cell_type": "code",
   "execution_count": 228,
   "metadata": {},
   "outputs": [
    {
     "data": {
      "text/plain": [
       "<pandas.core.resample.DatetimeIndexResampler object at 0x000001CB473D6AF0>"
      ]
     },
     "execution_count": 228,
     "metadata": {},
     "output_type": "execute_result"
    }
   ],
   "source": [
    "df2.resample('M', label='left')"
   ]
  },
  {
   "cell_type": "code",
   "execution_count": 229,
   "metadata": {},
   "outputs": [],
   "source": [
    "opsd_month_mean = df2['irradiation'].resample('M').mean()"
   ]
  },
  {
   "cell_type": "code",
   "execution_count": 230,
   "metadata": {},
   "outputs": [
    {
     "data": {
      "text/plain": [
       "DatetimeIndex(['2017-01-31', '2017-02-28', '2017-03-31', '2017-04-30',\n",
       "               '2017-05-31', '2017-06-30', '2017-07-31', '2017-08-31',\n",
       "               '2017-09-30', '2017-10-31', '2017-11-30', '2017-12-31',\n",
       "               '2018-01-31', '2018-02-28', '2018-03-31', '2018-04-30',\n",
       "               '2018-05-31', '2018-06-30', '2018-07-31', '2018-08-31',\n",
       "               '2018-09-30', '2018-10-31', '2018-11-30', '2018-12-31',\n",
       "               '2019-01-31', '2019-02-28', '2019-03-31', '2019-04-30',\n",
       "               '2019-05-31', '2019-06-30', '2019-07-31', '2019-08-31',\n",
       "               '2019-09-30', '2019-10-31', '2019-11-30', '2019-12-31',\n",
       "               '2020-01-31', '2020-02-29', '2020-03-31', '2020-04-30',\n",
       "               '2020-05-31', '2020-06-30', '2020-07-31', '2020-08-31',\n",
       "               '2020-09-30', '2020-10-31', '2020-11-30', '2020-12-31',\n",
       "               '2021-01-31', '2021-02-28', '2021-03-31'],\n",
       "              dtype='datetime64[ns]', name='time(UTC)', freq='M')"
      ]
     },
     "execution_count": 230,
     "metadata": {},
     "output_type": "execute_result"
    }
   ],
   "source": [
    "opsd_month_mean.index"
   ]
  },
  {
   "cell_type": "code",
   "execution_count": 231,
   "metadata": {},
   "outputs": [],
   "source": [
    "df_m = pd.DataFrame(data=opsd_month_mean, index=opsd_month_mean.index)"
   ]
  },
  {
   "cell_type": "code",
   "execution_count": 232,
   "metadata": {},
   "outputs": [
    {
     "data": {
      "text/html": [
       "<div>\n",
       "<style scoped>\n",
       "    .dataframe tbody tr th:only-of-type {\n",
       "        vertical-align: middle;\n",
       "    }\n",
       "\n",
       "    .dataframe tbody tr th {\n",
       "        vertical-align: top;\n",
       "    }\n",
       "\n",
       "    .dataframe thead th {\n",
       "        text-align: right;\n",
       "    }\n",
       "</style>\n",
       "<table border=\"1\" class=\"dataframe\">\n",
       "  <thead>\n",
       "    <tr style=\"text-align: right;\">\n",
       "      <th></th>\n",
       "      <th>irradiation</th>\n",
       "      <th>time(UTC)</th>\n",
       "    </tr>\n",
       "  </thead>\n",
       "  <tbody>\n",
       "    <tr>\n",
       "      <th>0</th>\n",
       "      <td>55.415484</td>\n",
       "      <td>2017-01-31</td>\n",
       "    </tr>\n",
       "    <tr>\n",
       "      <th>1</th>\n",
       "      <td>40.837291</td>\n",
       "      <td>2017-02-28</td>\n",
       "    </tr>\n",
       "    <tr>\n",
       "      <th>2</th>\n",
       "      <td>135.065180</td>\n",
       "      <td>2017-03-31</td>\n",
       "    </tr>\n",
       "    <tr>\n",
       "      <th>3</th>\n",
       "      <td>134.488075</td>\n",
       "      <td>2017-04-30</td>\n",
       "    </tr>\n",
       "    <tr>\n",
       "      <th>4</th>\n",
       "      <td>209.077359</td>\n",
       "      <td>2017-05-31</td>\n",
       "    </tr>\n",
       "    <tr>\n",
       "      <th>5</th>\n",
       "      <td>246.318754</td>\n",
       "      <td>2017-06-30</td>\n",
       "    </tr>\n",
       "    <tr>\n",
       "      <th>6</th>\n",
       "      <td>219.400428</td>\n",
       "      <td>2017-07-31</td>\n",
       "    </tr>\n",
       "    <tr>\n",
       "      <th>7</th>\n",
       "      <td>225.690481</td>\n",
       "      <td>2017-08-31</td>\n",
       "    </tr>\n",
       "    <tr>\n",
       "      <th>8</th>\n",
       "      <td>119.180937</td>\n",
       "      <td>2017-09-30</td>\n",
       "    </tr>\n",
       "    <tr>\n",
       "      <th>9</th>\n",
       "      <td>86.575660</td>\n",
       "      <td>2017-10-31</td>\n",
       "    </tr>\n",
       "    <tr>\n",
       "      <th>10</th>\n",
       "      <td>28.720160</td>\n",
       "      <td>2017-11-30</td>\n",
       "    </tr>\n",
       "    <tr>\n",
       "      <th>11</th>\n",
       "      <td>29.744863</td>\n",
       "      <td>2017-12-31</td>\n",
       "    </tr>\n",
       "    <tr>\n",
       "      <th>12</th>\n",
       "      <td>29.876479</td>\n",
       "      <td>2018-01-31</td>\n",
       "    </tr>\n",
       "    <tr>\n",
       "      <th>13</th>\n",
       "      <td>94.141397</td>\n",
       "      <td>2018-02-28</td>\n",
       "    </tr>\n",
       "    <tr>\n",
       "      <th>14</th>\n",
       "      <td>101.699257</td>\n",
       "      <td>2018-03-31</td>\n",
       "    </tr>\n",
       "    <tr>\n",
       "      <th>15</th>\n",
       "      <td>225.053037</td>\n",
       "      <td>2018-04-30</td>\n",
       "    </tr>\n",
       "    <tr>\n",
       "      <th>16</th>\n",
       "      <td>96.899579</td>\n",
       "      <td>2018-05-31</td>\n",
       "    </tr>\n",
       "    <tr>\n",
       "      <th>17</th>\n",
       "      <td>219.205987</td>\n",
       "      <td>2018-06-30</td>\n",
       "    </tr>\n",
       "    <tr>\n",
       "      <th>18</th>\n",
       "      <td>248.588875</td>\n",
       "      <td>2018-07-31</td>\n",
       "    </tr>\n",
       "    <tr>\n",
       "      <th>19</th>\n",
       "      <td>238.365836</td>\n",
       "      <td>2018-08-31</td>\n",
       "    </tr>\n",
       "    <tr>\n",
       "      <th>20</th>\n",
       "      <td>192.691304</td>\n",
       "      <td>2018-09-30</td>\n",
       "    </tr>\n",
       "    <tr>\n",
       "      <th>21</th>\n",
       "      <td>126.317964</td>\n",
       "      <td>2018-10-31</td>\n",
       "    </tr>\n",
       "    <tr>\n",
       "      <th>22</th>\n",
       "      <td>64.525421</td>\n",
       "      <td>2018-11-30</td>\n",
       "    </tr>\n",
       "    <tr>\n",
       "      <th>23</th>\n",
       "      <td>20.003971</td>\n",
       "      <td>2018-12-31</td>\n",
       "    </tr>\n",
       "    <tr>\n",
       "      <th>24</th>\n",
       "      <td>29.192642</td>\n",
       "      <td>2019-01-31</td>\n",
       "    </tr>\n",
       "    <tr>\n",
       "      <th>25</th>\n",
       "      <td>106.447852</td>\n",
       "      <td>2019-02-28</td>\n",
       "    </tr>\n",
       "    <tr>\n",
       "      <th>26</th>\n",
       "      <td>121.146988</td>\n",
       "      <td>2019-03-31</td>\n",
       "    </tr>\n",
       "    <tr>\n",
       "      <th>27</th>\n",
       "      <td>207.980300</td>\n",
       "      <td>2019-04-30</td>\n",
       "    </tr>\n",
       "    <tr>\n",
       "      <th>28</th>\n",
       "      <td>193.736608</td>\n",
       "      <td>2019-05-31</td>\n",
       "    </tr>\n",
       "    <tr>\n",
       "      <th>29</th>\n",
       "      <td>284.809815</td>\n",
       "      <td>2019-06-30</td>\n",
       "    </tr>\n",
       "    <tr>\n",
       "      <th>30</th>\n",
       "      <td>228.345437</td>\n",
       "      <td>2019-07-31</td>\n",
       "    </tr>\n",
       "    <tr>\n",
       "      <th>31</th>\n",
       "      <td>221.316291</td>\n",
       "      <td>2019-08-31</td>\n",
       "    </tr>\n",
       "    <tr>\n",
       "      <th>32</th>\n",
       "      <td>61.934149</td>\n",
       "      <td>2019-09-30</td>\n",
       "    </tr>\n",
       "    <tr>\n",
       "      <th>33</th>\n",
       "      <td>117.379042</td>\n",
       "      <td>2019-10-31</td>\n",
       "    </tr>\n",
       "    <tr>\n",
       "      <th>34</th>\n",
       "      <td>50.708924</td>\n",
       "      <td>2019-11-30</td>\n",
       "    </tr>\n",
       "    <tr>\n",
       "      <th>35</th>\n",
       "      <td>0.000000</td>\n",
       "      <td>2019-12-31</td>\n",
       "    </tr>\n",
       "    <tr>\n",
       "      <th>36</th>\n",
       "      <td>24.183640</td>\n",
       "      <td>2020-01-31</td>\n",
       "    </tr>\n",
       "    <tr>\n",
       "      <th>37</th>\n",
       "      <td>50.830566</td>\n",
       "      <td>2020-02-29</td>\n",
       "    </tr>\n",
       "    <tr>\n",
       "      <th>38</th>\n",
       "      <td>155.459485</td>\n",
       "      <td>2020-03-31</td>\n",
       "    </tr>\n",
       "    <tr>\n",
       "      <th>39</th>\n",
       "      <td>240.191175</td>\n",
       "      <td>2020-04-30</td>\n",
       "    </tr>\n",
       "    <tr>\n",
       "      <th>40</th>\n",
       "      <td>207.331496</td>\n",
       "      <td>2020-05-31</td>\n",
       "    </tr>\n",
       "    <tr>\n",
       "      <th>41</th>\n",
       "      <td>189.011702</td>\n",
       "      <td>2020-06-30</td>\n",
       "    </tr>\n",
       "    <tr>\n",
       "      <th>42</th>\n",
       "      <td>240.512774</td>\n",
       "      <td>2020-07-31</td>\n",
       "    </tr>\n",
       "    <tr>\n",
       "      <th>43</th>\n",
       "      <td>220.900694</td>\n",
       "      <td>2020-08-31</td>\n",
       "    </tr>\n",
       "    <tr>\n",
       "      <th>44</th>\n",
       "      <td>179.367355</td>\n",
       "      <td>2020-09-30</td>\n",
       "    </tr>\n",
       "    <tr>\n",
       "      <th>45</th>\n",
       "      <td>72.972887</td>\n",
       "      <td>2020-10-31</td>\n",
       "    </tr>\n",
       "    <tr>\n",
       "      <th>46</th>\n",
       "      <td>51.407880</td>\n",
       "      <td>2020-11-30</td>\n",
       "    </tr>\n",
       "    <tr>\n",
       "      <th>47</th>\n",
       "      <td>41.038952</td>\n",
       "      <td>2020-12-31</td>\n",
       "    </tr>\n",
       "    <tr>\n",
       "      <th>48</th>\n",
       "      <td>31.679747</td>\n",
       "      <td>2021-01-31</td>\n",
       "    </tr>\n",
       "    <tr>\n",
       "      <th>49</th>\n",
       "      <td>83.636935</td>\n",
       "      <td>2021-02-28</td>\n",
       "    </tr>\n",
       "    <tr>\n",
       "      <th>50</th>\n",
       "      <td>136.561998</td>\n",
       "      <td>2021-03-31</td>\n",
       "    </tr>\n",
       "  </tbody>\n",
       "</table>\n",
       "</div>"
      ],
      "text/plain": [
       "    irradiation  time(UTC)\n",
       "0     55.415484 2017-01-31\n",
       "1     40.837291 2017-02-28\n",
       "2    135.065180 2017-03-31\n",
       "3    134.488075 2017-04-30\n",
       "4    209.077359 2017-05-31\n",
       "5    246.318754 2017-06-30\n",
       "6    219.400428 2017-07-31\n",
       "7    225.690481 2017-08-31\n",
       "8    119.180937 2017-09-30\n",
       "9     86.575660 2017-10-31\n",
       "10    28.720160 2017-11-30\n",
       "11    29.744863 2017-12-31\n",
       "12    29.876479 2018-01-31\n",
       "13    94.141397 2018-02-28\n",
       "14   101.699257 2018-03-31\n",
       "15   225.053037 2018-04-30\n",
       "16    96.899579 2018-05-31\n",
       "17   219.205987 2018-06-30\n",
       "18   248.588875 2018-07-31\n",
       "19   238.365836 2018-08-31\n",
       "20   192.691304 2018-09-30\n",
       "21   126.317964 2018-10-31\n",
       "22    64.525421 2018-11-30\n",
       "23    20.003971 2018-12-31\n",
       "24    29.192642 2019-01-31\n",
       "25   106.447852 2019-02-28\n",
       "26   121.146988 2019-03-31\n",
       "27   207.980300 2019-04-30\n",
       "28   193.736608 2019-05-31\n",
       "29   284.809815 2019-06-30\n",
       "30   228.345437 2019-07-31\n",
       "31   221.316291 2019-08-31\n",
       "32    61.934149 2019-09-30\n",
       "33   117.379042 2019-10-31\n",
       "34    50.708924 2019-11-30\n",
       "35     0.000000 2019-12-31\n",
       "36    24.183640 2020-01-31\n",
       "37    50.830566 2020-02-29\n",
       "38   155.459485 2020-03-31\n",
       "39   240.191175 2020-04-30\n",
       "40   207.331496 2020-05-31\n",
       "41   189.011702 2020-06-30\n",
       "42   240.512774 2020-07-31\n",
       "43   220.900694 2020-08-31\n",
       "44   179.367355 2020-09-30\n",
       "45    72.972887 2020-10-31\n",
       "46    51.407880 2020-11-30\n",
       "47    41.038952 2020-12-31\n",
       "48    31.679747 2021-01-31\n",
       "49    83.636935 2021-02-28\n",
       "50   136.561998 2021-03-31"
      ]
     },
     "execution_count": 232,
     "metadata": {},
     "output_type": "execute_result"
    }
   ],
   "source": [
    "df_m['time(UTC)']=opsd_month_mean.index\n",
    "df_m.reset_index(drop=True, inplace=True)\n",
    "df_m"
   ]
  },
  {
   "cell_type": "code",
   "execution_count": 233,
   "metadata": {},
   "outputs": [
    {
     "data": {
      "text/plain": [
       "Text(0, 0.5, '$G (kW-hr/m^2/Month)$')"
      ]
     },
     "execution_count": 233,
     "metadata": {},
     "output_type": "execute_result"
    },
    {
     "data": {
      "text/plain": [
       "<Figure size 360x2160 with 0 Axes>"
      ]
     },
     "metadata": {},
     "output_type": "display_data"
    },
    {
     "data": {
      "image/png": "[encoded data removed]",
      "text/plain": [
       "<Figure size 432x288 with 1 Axes>"
      ]
     },
     "metadata": {
      "needs_background": "light"
     },
     "output_type": "display_data"
    }
   ],
   "source": [
    "plt.figure(figsize=(5,30))\n",
    "ax = df_m.plot(x='time(UTC)', y='irradiation');\n",
    "ax.set_xlabel(\"Date\")\n",
    "ax.set_ylabel(r'$G (kW-hr/m^2/Month)$')"
   ]
  },
  {
   "cell_type": "code",
   "execution_count": 235,
   "metadata": {},
   "outputs": [],
   "source": [
    "#Initialize random grid of hyper-params\n",
    "# Number of trees in random forest\n",
    "n_estimators = [int(x) for x in np.linspace(start = 200, stop = 2000, num = 10)]\n",
    "# Number of features to consider at every split\n",
    "max_features = ['auto', 'sqrt']\n",
    "# Maximum number of levels in tree\n",
    "max_depth = [int(x) for x in np.linspace(10, 110, num = 11)]\n",
    "max_depth.append(None)\n",
    "# Minimum number of samples required to split a node\n",
    "min_samples_split = [2, 5, 10]\n",
    "# Minimum number of samples required at each leaf node\n",
    "min_samples_leaf = [1, 2, 4]\n",
    "# Method of selecting samples for training each tree\n",
    "bootstrap = [True, False]\n",
    "# Create the random grid\n",
    "random_grid = {'n_estimators': n_estimators,\n",
    "               'max_features': max_features,\n",
    "               'max_depth': max_depth,\n",
    "               'min_samples_split': min_samples_split,\n",
    "               'min_samples_leaf': min_samples_leaf,\n",
    "               'bootstrap': bootstrap}"
   ]
  },
  {
   "cell_type": "code",
   "execution_count": 236,
   "metadata": {},
   "outputs": [],
   "source": [
    "# dictionary of model params/scores computed on different metric\n",
    "def model_score_on_different_metric(y_test, y_pred,model_fit):\n",
    "    score_on_metric_dic =dict()\n",
    "    score_on_metric_dic['Model parameters']= model_fit.best_params_\n",
    "    score_on_metric_dic['Mean absolute error']= mean_absolute_error(y_test, y_pred)\n",
    "    score_on_metric_dic['Root-mean-square error']=sqrt(mean_squared_error(y_test, y_pred))\n",
    "    score_on_metric_dic['Coefficient of determination']= r2_score(y_test, y_pred)\n",
    "    return score_on_metric_dic\n",
    "\n",
    "#functions to control the research  of hyper-parameters\n",
    "def set_research_interval_min_sample_leaf(min_samples_leaf, setting_larger_search_interval ):\n",
    "    min_simple_leaf_interval = list()\n",
    "    min_simple_leaf_interval = [min_samples_leaf+i for i in setting_larger_search_interval if (min_samples_leaf+i)>=1]\n",
    "    return min_simple_leaf_interval\n",
    "\n",
    "def set_research_interval_min_sample_split(min_samples_split, setting_larger_search_interval ):\n",
    "    min_simple_split_interval = list()\n",
    "    min_simple_split_interval = [min_samples_split+i for i in setting_larger_search_interval \n",
    "                                     if (min_samples_split+i) >=2]\n",
    "    return min_simple_split_interval\n",
    "\n",
    "def set_research_interval_n_estimators(n_estimators, setting_larger_search_interval ):\n",
    "    n_estimators_interval = list()\n",
    "    n_estimators_interval = [n_estimators+i for i in setting_larger_search_interval \n",
    "                                     if (n_estimators+i) >=100]\n",
    "    return n_estimators_interval\n",
    "\n",
    "def set_research_interval_max_depth(max_depth, setting_larger_search_interval ):\n",
    "    max_depth_interval = list()\n",
    "    max_depth_interval = [max_depth+i for i in setting_larger_search_interval \n",
    "                                     if (max_depth+i) >=2]\n",
    "    return  max_depth_interval"
   ]
  },
  {
   "cell_type": "code",
   "execution_count": 240,
   "metadata": {},
   "outputs": [
    {
     "data": {
      "text/plain": [
       "0      55.415484\n",
       "1      40.837291\n",
       "2     135.065180\n",
       "3     134.488075\n",
       "4     209.077359\n",
       "5     246.318754\n",
       "6     219.400428\n",
       "7     225.690481\n",
       "8     119.180937\n",
       "9      86.575660\n",
       "10     28.720160\n",
       "11     29.744863\n",
       "12     29.876479\n",
       "13     94.141397\n",
       "14    101.699257\n",
       "15    225.053037\n",
       "16     96.899579\n",
       "17    219.205987\n",
       "18    248.588875\n",
       "19    238.365836\n",
       "20    192.691304\n",
       "21    126.317964\n",
       "22     64.525421\n",
       "23     20.003971\n",
       "24     29.192642\n",
       "25    106.447852\n",
       "26    121.146988\n",
       "27    207.980300\n",
       "28    193.736608\n",
       "29    284.809815\n",
       "30    228.345437\n",
       "31    221.316291\n",
       "32     61.934149\n",
       "33    117.379042\n",
       "34     50.708924\n",
       "35      0.000000\n",
       "36     24.183640\n",
       "37     50.830566\n",
       "38    155.459485\n",
       "39    240.191175\n",
       "40    207.331496\n",
       "41    189.011702\n",
       "42    240.512774\n",
       "43    220.900694\n",
       "44    179.367355\n",
       "45     72.972887\n",
       "46     51.407880\n",
       "47     41.038952\n",
       "48     31.679747\n",
       "49     83.636935\n",
       "50    136.561998\n",
       "Name: irradiation, dtype: float64"
      ]
     },
     "execution_count": 240,
     "metadata": {},
     "output_type": "execute_result"
    }
   ],
   "source": [
    "X = df_m.drop(columns='irradiation')\n",
    "Y = df_m['irradiation']\n",
    "X\n",
    "Y"
   ]
  },
  {
   "cell_type": "code",
   "execution_count": 241,
   "metadata": {},
   "outputs": [
    {
     "name": "stdout",
     "output_type": "stream",
     "text": [
      "Fitting 3 folds for each of 100 candidates, totalling 300 fits\n"
     ]
    },
    {
     "name": "stderr",
     "output_type": "stream",
     "text": [
      "[Parallel(n_jobs=-1)]: Using backend LokyBackend with 8 concurrent workers.\n",
      "[Parallel(n_jobs=-1)]: Done  25 tasks      | elapsed:   11.8s\n",
      "[Parallel(n_jobs=-1)]: Done 146 tasks      | elapsed:   45.1s\n",
      "[Parallel(n_jobs=-1)]: Done 300 out of 300 | elapsed:  1.5min finished\n"
     ]
    },
    {
     "name": "stdout",
     "output_type": "stream",
     "text": [
      "Fitting 3 folds for each of 900 candidates, totalling 2700 fits\n"
     ]
    },
    {
     "name": "stderr",
     "output_type": "stream",
     "text": [
      "[Parallel(n_jobs=-1)]: Using backend LokyBackend with 8 concurrent workers.\n",
      "[Parallel(n_jobs=-1)]: Done  25 tasks      | elapsed:    3.2s\n",
      "[Parallel(n_jobs=-1)]: Done 146 tasks      | elapsed:   18.8s\n",
      "[Parallel(n_jobs=-1)]: Done 349 tasks      | elapsed:   43.3s\n",
      "[Parallel(n_jobs=-1)]: Done 632 tasks      | elapsed:  1.3min\n",
      "[Parallel(n_jobs=-1)]: Done 997 tasks      | elapsed:  2.1min\n",
      "[Parallel(n_jobs=-1)]: Done 1442 tasks      | elapsed:  3.1min\n",
      "[Parallel(n_jobs=-1)]: Done 1969 tasks      | elapsed:  4.3min\n",
      "[Parallel(n_jobs=-1)]: Done 2576 tasks      | elapsed:  5.6min\n",
      "[Parallel(n_jobs=-1)]: Done 2700 out of 2700 | elapsed:  5.8min finished\n"
     ]
    },
    {
     "name": "stdout",
     "output_type": "stream",
     "text": [
      "Fitting 3 folds for each of 100 candidates, totalling 300 fits\n"
     ]
    },
    {
     "name": "stderr",
     "output_type": "stream",
     "text": [
      "[Parallel(n_jobs=-1)]: Using backend LokyBackend with 8 concurrent workers.\n",
      "[Parallel(n_jobs=-1)]: Done  25 tasks      | elapsed:    8.2s\n",
      "[Parallel(n_jobs=-1)]: Done 146 tasks      | elapsed:   49.2s\n",
      "[Parallel(n_jobs=-1)]: Done 300 out of 300 | elapsed:  1.8min finished\n"
     ]
    },
    {
     "name": "stdout",
     "output_type": "stream",
     "text": [
      "Fitting 3 folds for each of 2160 candidates, totalling 6480 fits\n"
     ]
    },
    {
     "name": "stderr",
     "output_type": "stream",
     "text": [
      "[Parallel(n_jobs=-1)]: Using backend LokyBackend with 8 concurrent workers.\n",
      "[Parallel(n_jobs=-1)]: Done  25 tasks      | elapsed:    3.6s\n",
      "[Parallel(n_jobs=-1)]: Done 146 tasks      | elapsed:   20.0s\n",
      "[Parallel(n_jobs=-1)]: Done 349 tasks      | elapsed:   47.7s\n",
      "[Parallel(n_jobs=-1)]: Done 632 tasks      | elapsed:  1.5min\n",
      "[Parallel(n_jobs=-1)]: Done 997 tasks      | elapsed:  2.3min\n",
      "[Parallel(n_jobs=-1)]: Done 1442 tasks      | elapsed:  3.3min\n",
      "[Parallel(n_jobs=-1)]: Done 1969 tasks      | elapsed:  4.6min\n",
      "[Parallel(n_jobs=-1)]: Done 2576 tasks      | elapsed:  6.0min\n",
      "[Parallel(n_jobs=-1)]: Done 3265 tasks      | elapsed:  7.6min\n",
      "[Parallel(n_jobs=-1)]: Done 4034 tasks      | elapsed:  9.4min\n",
      "[Parallel(n_jobs=-1)]: Done 4885 tasks      | elapsed: 11.4min\n",
      "[Parallel(n_jobs=-1)]: Done 5816 tasks      | elapsed: 13.4min\n",
      "[Parallel(n_jobs=-1)]: Done 6480 out of 6480 | elapsed: 14.7min finished\n"
     ]
    },
    {
     "name": "stdout",
     "output_type": "stream",
     "text": [
      "Fitting 3 folds for each of 100 candidates, totalling 300 fits\n"
     ]
    },
    {
     "name": "stderr",
     "output_type": "stream",
     "text": [
      "[Parallel(n_jobs=-1)]: Using backend LokyBackend with 8 concurrent workers.\n",
      "[Parallel(n_jobs=-1)]: Done  25 tasks      | elapsed:    8.7s\n",
      "[Parallel(n_jobs=-1)]: Done 146 tasks      | elapsed:   41.3s\n",
      "[Parallel(n_jobs=-1)]: Done 300 out of 300 | elapsed:  1.4min finished\n"
     ]
    },
    {
     "name": "stdout",
     "output_type": "stream",
     "text": [
      "Fitting 3 folds for each of 900 candidates, totalling 2700 fits\n"
     ]
    },
    {
     "name": "stderr",
     "output_type": "stream",
     "text": [
      "[Parallel(n_jobs=-1)]: Using backend LokyBackend with 8 concurrent workers.\n",
      "[Parallel(n_jobs=-1)]: Done  25 tasks      | elapsed:    3.0s\n",
      "[Parallel(n_jobs=-1)]: Done 146 tasks      | elapsed:   17.6s\n",
      "[Parallel(n_jobs=-1)]: Done 349 tasks      | elapsed:   41.7s\n",
      "[Parallel(n_jobs=-1)]: Done 632 tasks      | elapsed:  1.3min\n",
      "[Parallel(n_jobs=-1)]: Done 997 tasks      | elapsed:  2.0min\n",
      "[Parallel(n_jobs=-1)]: Done 1442 tasks      | elapsed:  2.9min\n",
      "[Parallel(n_jobs=-1)]: Done 1969 tasks      | elapsed:  3.9min\n",
      "[Parallel(n_jobs=-1)]: Done 2576 tasks      | elapsed:  5.1min\n",
      "[Parallel(n_jobs=-1)]: Done 2700 out of 2700 | elapsed:  5.4min finished\n"
     ]
    },
    {
     "name": "stdout",
     "output_type": "stream",
     "text": [
      "Fitting 3 folds for each of 100 candidates, totalling 300 fits\n"
     ]
    },
    {
     "name": "stderr",
     "output_type": "stream",
     "text": [
      "[Parallel(n_jobs=-1)]: Using backend LokyBackend with 8 concurrent workers.\n",
      "[Parallel(n_jobs=-1)]: Done  25 tasks      | elapsed:    8.9s\n",
      "[Parallel(n_jobs=-1)]: Done 146 tasks      | elapsed:   42.5s\n",
      "[Parallel(n_jobs=-1)]: Done 300 out of 300 | elapsed:  1.5min finished\n"
     ]
    },
    {
     "name": "stdout",
     "output_type": "stream",
     "text": [
      "Fitting 3 folds for each of 2160 candidates, totalling 6480 fits\n"
     ]
    },
    {
     "name": "stderr",
     "output_type": "stream",
     "text": [
      "[Parallel(n_jobs=-1)]: Using backend LokyBackend with 8 concurrent workers.\n",
      "[Parallel(n_jobs=-1)]: Done  25 tasks      | elapsed:    7.5s\n",
      "[Parallel(n_jobs=-1)]: Done 146 tasks      | elapsed:   36.3s\n",
      "[Parallel(n_jobs=-1)]: Done 349 tasks      | elapsed:  1.4min\n",
      "[Parallel(n_jobs=-1)]: Done 632 tasks      | elapsed:  2.5min\n",
      "[Parallel(n_jobs=-1)]: Done 997 tasks      | elapsed:  4.0min\n",
      "[Parallel(n_jobs=-1)]: Done 1442 tasks      | elapsed:  5.7min\n",
      "[Parallel(n_jobs=-1)]: Done 1969 tasks      | elapsed:  7.8min\n",
      "[Parallel(n_jobs=-1)]: Done 2576 tasks      | elapsed: 10.2min\n",
      "[Parallel(n_jobs=-1)]: Done 3265 tasks      | elapsed: 12.9min\n",
      "[Parallel(n_jobs=-1)]: Done 4034 tasks      | elapsed: 16.0min\n",
      "[Parallel(n_jobs=-1)]: Done 4885 tasks      | elapsed: 19.3min\n",
      "[Parallel(n_jobs=-1)]: Done 5816 tasks      | elapsed: 23.0min\n",
      "[Parallel(n_jobs=-1)]: Done 6480 out of 6480 | elapsed: 25.6min finished\n"
     ]
    },
    {
     "name": "stdout",
     "output_type": "stream",
     "text": [
      "Fitting 3 folds for each of 100 candidates, totalling 300 fits\n"
     ]
    },
    {
     "name": "stderr",
     "output_type": "stream",
     "text": [
      "[Parallel(n_jobs=-1)]: Using backend LokyBackend with 8 concurrent workers.\n",
      "[Parallel(n_jobs=-1)]: Done  25 tasks      | elapsed:    8.0s\n",
      "[Parallel(n_jobs=-1)]: Done 146 tasks      | elapsed:   40.8s\n",
      "[Parallel(n_jobs=-1)]: Done 300 out of 300 | elapsed:  1.4min finished\n"
     ]
    },
    {
     "name": "stdout",
     "output_type": "stream",
     "text": [
      "Fitting 3 folds for each of 2160 candidates, totalling 6480 fits\n"
     ]
    },
    {
     "name": "stderr",
     "output_type": "stream",
     "text": [
      "[Parallel(n_jobs=-1)]: Using backend LokyBackend with 8 concurrent workers.\n",
      "[Parallel(n_jobs=-1)]: Done  25 tasks      | elapsed:    3.2s\n",
      "[Parallel(n_jobs=-1)]: Done 146 tasks      | elapsed:   17.6s\n",
      "[Parallel(n_jobs=-1)]: Done 349 tasks      | elapsed:   41.7s\n",
      "[Parallel(n_jobs=-1)]: Done 632 tasks      | elapsed:  1.3min\n",
      "[Parallel(n_jobs=-1)]: Done 997 tasks      | elapsed:  2.0min\n",
      "[Parallel(n_jobs=-1)]: Done 1442 tasks      | elapsed:  2.9min\n",
      "[Parallel(n_jobs=-1)]: Done 1969 tasks      | elapsed:  3.9min\n",
      "[Parallel(n_jobs=-1)]: Done 2576 tasks      | elapsed:  5.1min\n",
      "[Parallel(n_jobs=-1)]: Done 3265 tasks      | elapsed:  6.5min\n",
      "[Parallel(n_jobs=-1)]: Done 4034 tasks      | elapsed:  8.0min\n",
      "[Parallel(n_jobs=-1)]: Done 4885 tasks      | elapsed:  9.7min\n",
      "[Parallel(n_jobs=-1)]: Done 5816 tasks      | elapsed: 11.5min\n",
      "[Parallel(n_jobs=-1)]: Done 6480 out of 6480 | elapsed: 12.8min finished\n"
     ]
    },
    {
     "data": {
      "image/png": "[encoded data removed]",
      "text/plain": [
       "<Figure size 432x288 with 1 Axes>"
      ]
     },
     "metadata": {
      "needs_background": "light"
     },
     "output_type": "display_data"
    }
   ],
   "source": [
    "#Main script of model\n",
    "random_forest_score=[]\n",
    "score = float()\n",
    "model_parameters_score_on_metric = dict()\n",
    "#Random Search Training\n",
    "# Use the random grid to search for best hyperparameters\n",
    "# First create the base model to tune\n",
    "rf = RandomForestRegressor()\n",
    "# Random search of parameters, using 3 fold cross validation, \n",
    "# search across 100 different combinations, and use all available cores\n",
    "rf_random = RandomizedSearchCV(estimator = rf, param_distributions = random_grid, n_iter = 100, cv = 3, \n",
    "                               verbose=2, random_state=42, n_jobs = -1)\n",
    "cv = model_selection.KFold(n_splits=5, shuffle=True)\n",
    "# Fit the random search model\n",
    "i=1\n",
    "for train, test in cv.split(X, Y):\n",
    "    \n",
    "    rf_random.fit(X.iloc[train,:], Y.iloc[train])\n",
    "    param_grid = {'bootstrap': [rf_random.best_params_['bootstrap']],\n",
    "    'max_depth': set_research_interval_max_depth(rf_random.best_params_['max_depth'],[-10,-5,-1,1,5,10]),\n",
    "    'max_features': [rf_random.best_params_['max_features']],\n",
    "    'min_samples_leaf': set_research_interval_min_sample_leaf(rf_random.best_params_['min_samples_leaf'],[-8,-3,-1,1,3,8]),\n",
    "    'min_samples_split': set_research_interval_min_sample_split(rf_random.best_params_['min_samples_split'],[-6,-2,-1,1,2,6]),\n",
    "    'n_estimators': set_research_interval_min_sample_split(rf_random.best_params_['n_estimators'],[-100,-80,-40,-20,-10,-5,5,10,20,40,80,100])\n",
    "     }\n",
    "    rf = RandomForestRegressor()\n",
    "    grid_search = GridSearchCV(estimator = rf, param_grid = param_grid, cv = 3, n_jobs = -1, verbose = 2,refit=True)\n",
    "    grid_search.fit(X.iloc[train,:], Y.iloc[train])\n",
    "    best_grid = grid_search.best_estimator_\n",
    "    y_prd=best_grid.predict(X.iloc[test,:])\n",
    "    score = r2_score(Y.iloc[test], y_prd)  \n",
    "    model_parameters_score_on_metric[\"Model_%s\"%i]= model_score_on_different_metric(Y.iloc[test], y_prd, grid_search)   \n",
    "    random_forest_score.append(score) \n",
    "    plt.scatter(y_prd, Y.iloc[test], lw=2, alpha=0.3, label='Fold %d (R2 = %0.2f)' % (i,score))\n",
    "    i= i +1\n",
    "#plot R2 scores for each model  \n",
    "plt.plot([min(Y),max(Y)], [min(Y),max(Y)], linestyle='--', lw=2, color='black')\n",
    "plt.xlabel('Predicted')\n",
    "plt.ylabel('True')\n",
    "plt.title('K-Fold Validation')\n",
    "plt.legend()\n",
    "plt.show()"
   ]
  },
  {
   "cell_type": "code",
   "execution_count": 242,
   "metadata": {},
   "outputs": [
    {
     "data": {
      "text/plain": [
       "{'Model parameters': {'bootstrap': True,\n",
       "  'max_depth': 55,\n",
       "  'max_features': 'sqrt',\n",
       "  'min_samples_leaf': 12,\n",
       "  'min_samples_split': 4,\n",
       "  'n_estimators': 790},\n",
       " 'Mean absolute error': 76.28719865013628,\n",
       " 'Root-mean-square error': 85.30917150380584,\n",
       " 'Coefficient of determination': 0.03873589834898661}"
      ]
     },
     "execution_count": 242,
     "metadata": {},
     "output_type": "execute_result"
    }
   ],
   "source": [
    "Best_model= random_forest_score.index(max(random_forest_score)) + 1\n",
    "model_parameters_score_on_metric['Model_%s'%Best_model]"
   ]
  },
  {
   "cell_type": "code",
   "execution_count": 243,
   "metadata": {},
   "outputs": [],
   "source": [
    "#hours"
   ]
  },
  {
   "cell_type": "code",
   "execution_count": 244,
   "metadata": {},
   "outputs": [
    {
     "data": {
      "text/html": [
       "<div>\n",
       "<style scoped>\n",
       "    .dataframe tbody tr th:only-of-type {\n",
       "        vertical-align: middle;\n",
       "    }\n",
       "\n",
       "    .dataframe tbody tr th {\n",
       "        vertical-align: top;\n",
       "    }\n",
       "\n",
       "    .dataframe thead th {\n",
       "        text-align: right;\n",
       "    }\n",
       "</style>\n",
       "<table border=\"1\" class=\"dataframe\">\n",
       "  <thead>\n",
       "    <tr style=\"text-align: right;\">\n",
       "      <th></th>\n",
       "      <th>irradiation</th>\n",
       "      <th>temperature</th>\n",
       "    </tr>\n",
       "    <tr>\n",
       "      <th>time(UTC)</th>\n",
       "      <th></th>\n",
       "      <th></th>\n",
       "    </tr>\n",
       "  </thead>\n",
       "  <tbody>\n",
       "    <tr>\n",
       "      <th>2017-01-01</th>\n",
       "      <td>0.802334</td>\n",
       "      <td>0.720098</td>\n",
       "    </tr>\n",
       "    <tr>\n",
       "      <th>2017-01-01</th>\n",
       "      <td>1.000000</td>\n",
       "      <td>1.154616</td>\n",
       "    </tr>\n",
       "    <tr>\n",
       "      <th>2017-01-01</th>\n",
       "      <td>0.891393</td>\n",
       "      <td>1.304207</td>\n",
       "    </tr>\n",
       "    <tr>\n",
       "      <th>2017-01-01</th>\n",
       "      <td>0.837256</td>\n",
       "      <td>1.079527</td>\n",
       "    </tr>\n",
       "    <tr>\n",
       "      <th>2017-01-01</th>\n",
       "      <td>0.848814</td>\n",
       "      <td>0.649967</td>\n",
       "    </tr>\n",
       "    <tr>\n",
       "      <th>...</th>\n",
       "      <td>...</td>\n",
       "      <td>...</td>\n",
       "    </tr>\n",
       "    <tr>\n",
       "      <th>2021-03-10</th>\n",
       "      <td>0.770375</td>\n",
       "      <td>3.713455</td>\n",
       "    </tr>\n",
       "    <tr>\n",
       "      <th>2021-03-10</th>\n",
       "      <td>0.987695</td>\n",
       "      <td>2.694212</td>\n",
       "    </tr>\n",
       "    <tr>\n",
       "      <th>2021-03-10</th>\n",
       "      <td>0.987637</td>\n",
       "      <td>1.834956</td>\n",
       "    </tr>\n",
       "    <tr>\n",
       "      <th>2021-03-10</th>\n",
       "      <td>0.993837</td>\n",
       "      <td>1.209808</td>\n",
       "    </tr>\n",
       "    <tr>\n",
       "      <th>2021-03-10</th>\n",
       "      <td>0.987654</td>\n",
       "      <td>0.613663</td>\n",
       "    </tr>\n",
       "  </tbody>\n",
       "</table>\n",
       "<p>36720 rows × 2 columns</p>\n",
       "</div>"
      ],
      "text/plain": [
       "            irradiation  temperature\n",
       "time(UTC)                           \n",
       "2017-01-01     0.802334     0.720098\n",
       "2017-01-01     1.000000     1.154616\n",
       "2017-01-01     0.891393     1.304207\n",
       "2017-01-01     0.837256     1.079527\n",
       "2017-01-01     0.848814     0.649967\n",
       "...                 ...          ...\n",
       "2021-03-10     0.770375     3.713455\n",
       "2021-03-10     0.987695     2.694212\n",
       "2021-03-10     0.987637     1.834956\n",
       "2021-03-10     0.993837     1.209808\n",
       "2021-03-10     0.987654     0.613663\n",
       "\n",
       "[36720 rows x 2 columns]"
      ]
     },
     "execution_count": 244,
     "metadata": {},
     "output_type": "execute_result"
    }
   ],
   "source": [
    "df\n"
   ]
  },
  {
   "cell_type": "code",
   "execution_count": 255,
   "metadata": {},
   "outputs": [
    {
     "data": {
      "text/plain": [
       "Text(0, 0.5, '$Irradiation (W/m^2)$')"
      ]
     },
     "execution_count": 255,
     "metadata": {},
     "output_type": "execute_result"
    },
    {
     "data": {
      "text/plain": [
       "<Figure size 360x2160 with 0 Axes>"
      ]
     },
     "metadata": {},
     "output_type": "display_data"
    },
    {
     "data": {
      "image/png": "[encoded data removed]",
      "text/plain": [
       "<Figure size 432x288 with 1 Axes>"
      ]
     },
     "metadata": {
      "needs_background": "light"
     },
     "output_type": "display_data"
    }
   ],
   "source": [
    "plt.figure(figsize=(5,30))\n",
    "ax = df.plot(y='irradiation');\n",
    "ax.set_xlabel(\"Date\")\n",
    "ax.set_ylabel(r'$Irradiation (W/m^2)$')"
   ]
  },
  {
   "cell_type": "code",
   "execution_count": 247,
   "metadata": {},
   "outputs": [],
   "source": [
    "#Initialize random grid of hyper-params\n",
    "# Number of trees in random forest\n",
    "n_estimators = [int(x) for x in np.linspace(start = 200, stop = 2000, num = 10)]\n",
    "# Number of features to consider at every split\n",
    "max_features = ['auto', 'sqrt']\n",
    "# Maximum number of levels in tree\n",
    "max_depth = [int(x) for x in np.linspace(10, 110, num = 11)]\n",
    "max_depth.append(None)\n",
    "# Minimum number of samples required to split a node\n",
    "min_samples_split = [2, 5, 10]\n",
    "# Minimum number of samples required at each leaf node\n",
    "min_samples_leaf = [1, 2, 4]\n",
    "# Method of selecting samples for training each tree\n",
    "bootstrap = [True, False]\n",
    "# Create the random grid\n",
    "random_grid = {'n_estimators': n_estimators,\n",
    "               'max_features': max_features,\n",
    "               'max_depth': max_depth,\n",
    "               'min_samples_split': min_samples_split,\n",
    "               'min_samples_leaf': min_samples_leaf,\n",
    "               'bootstrap': bootstrap}"
   ]
  },
  {
   "cell_type": "code",
   "execution_count": 248,
   "metadata": {},
   "outputs": [],
   "source": [
    "# dictionary of model params/scores computed on different metric\n",
    "def model_score_on_different_metric(y_test, y_pred,model_fit):\n",
    "    score_on_metric_dic =dict()\n",
    "    score_on_metric_dic['Model parameters']= model_fit.best_params_\n",
    "    score_on_metric_dic['Mean absolute error']= mean_absolute_error(y_test, y_pred)\n",
    "    score_on_metric_dic['Root-mean-square error']=sqrt(mean_squared_error(y_test, y_pred))\n",
    "    score_on_metric_dic['Coefficient of determination']= r2_score(y_test, y_pred)\n",
    "    return score_on_metric_dic\n",
    "\n",
    "#functions to control the research  of hyper-parameters\n",
    "def set_research_interval_min_sample_leaf(min_samples_leaf, setting_larger_search_interval ):\n",
    "    min_simple_leaf_interval = list()\n",
    "    min_simple_leaf_interval = [min_samples_leaf+i for i in setting_larger_search_interval if (min_samples_leaf+i)>=1]\n",
    "    return min_simple_leaf_interval\n",
    "\n",
    "def set_research_interval_min_sample_split(min_samples_split, setting_larger_search_interval ):\n",
    "    min_simple_split_interval = list()\n",
    "    min_simple_split_interval = [min_samples_split+i for i in setting_larger_search_interval \n",
    "                                     if (min_samples_split+i) >=2]\n",
    "    return min_simple_split_interval\n",
    "\n",
    "def set_research_interval_n_estimators(n_estimators, setting_larger_search_interval ):\n",
    "    n_estimators_interval = list()\n",
    "    n_estimators_interval = [n_estimators+i for i in setting_larger_search_interval \n",
    "                                     if (n_estimators+i) >=100]\n",
    "    return n_estimators_interval\n",
    "\n",
    "def set_research_interval_max_depth(max_depth, setting_larger_search_interval ):\n",
    "    max_depth_interval = list()\n",
    "    max_depth_interval = [max_depth+i for i in setting_larger_search_interval \n",
    "                                     if (max_depth+i) >=2]\n",
    "    return  max_depth_interval"
   ]
  },
  {
   "cell_type": "code",
   "execution_count": 251,
   "metadata": {},
   "outputs": [
    {
     "data": {
      "text/plain": [
       "time(UTC)\n",
       "2017-01-01    0.802334\n",
       "2017-01-01    1.000000\n",
       "2017-01-01    0.891393\n",
       "2017-01-01    0.837256\n",
       "2017-01-01    0.848814\n",
       "                ...   \n",
       "2021-03-10    0.770375\n",
       "2021-03-10    0.987695\n",
       "2021-03-10    0.987637\n",
       "2021-03-10    0.993837\n",
       "2021-03-10    0.987654\n",
       "Name: irradiation, Length: 36720, dtype: float64"
      ]
     },
     "execution_count": 251,
     "metadata": {},
     "output_type": "execute_result"
    }
   ],
   "source": [
    "X = df.drop(columns='irradiation')\n",
    "Y = df['irradiation']\n",
    "X\n",
    "Y"
   ]
  },
  {
   "cell_type": "code",
   "execution_count": 252,
   "metadata": {},
   "outputs": [
    {
     "name": "stdout",
     "output_type": "stream",
     "text": [
      "Fitting 3 folds for each of 100 candidates, totalling 300 fits\n"
     ]
    },
    {
     "name": "stderr",
     "output_type": "stream",
     "text": [
      "[Parallel(n_jobs=-1)]: Using backend LokyBackend with 8 concurrent workers.\n",
      "[Parallel(n_jobs=-1)]: Done  25 tasks      | elapsed:  4.0min\n",
      "[Parallel(n_jobs=-1)]: Done 146 tasks      | elapsed: 22.2min\n",
      "[Parallel(n_jobs=-1)]: Done 300 out of 300 | elapsed: 43.1min finished\n"
     ]
    },
    {
     "name": "stdout",
     "output_type": "stream",
     "text": [
      "Fitting 3 folds for each of 1440 candidates, totalling 4320 fits\n"
     ]
    },
    {
     "name": "stderr",
     "output_type": "stream",
     "text": [
      "[Parallel(n_jobs=-1)]: Using backend LokyBackend with 8 concurrent workers.\n",
      "[Parallel(n_jobs=-1)]: Done  25 tasks      | elapsed:   57.4s\n",
      "[Parallel(n_jobs=-1)]: Done 146 tasks      | elapsed:  5.2min\n",
      "[Parallel(n_jobs=-1)]: Done 349 tasks      | elapsed: 12.3min\n",
      "[Parallel(n_jobs=-1)]: Done 632 tasks      | elapsed: 22.5min\n",
      "[Parallel(n_jobs=-1)]: Done 997 tasks      | elapsed: 38.2min\n",
      "[Parallel(n_jobs=-1)]: Done 1442 tasks      | elapsed: 62.2min\n",
      "[Parallel(n_jobs=-1)]: Done 1969 tasks      | elapsed: 91.7min\n",
      "[Parallel(n_jobs=-1)]: Done 2576 tasks      | elapsed: 127.1min\n",
      "[Parallel(n_jobs=-1)]: Done 3265 tasks      | elapsed: 178.7min\n",
      "[Parallel(n_jobs=-1)]: Done 4034 tasks      | elapsed: 247.4min\n",
      "[Parallel(n_jobs=-1)]: Done 4320 out of 4320 | elapsed: 270.7min finished\n"
     ]
    },
    {
     "name": "stdout",
     "output_type": "stream",
     "text": [
      "Fitting 3 folds for each of 100 candidates, totalling 300 fits\n"
     ]
    },
    {
     "name": "stderr",
     "output_type": "stream",
     "text": [
      "[Parallel(n_jobs=-1)]: Using backend LokyBackend with 8 concurrent workers.\n",
      "[Parallel(n_jobs=-1)]: Done  25 tasks      | elapsed:  4.1min\n",
      "[Parallel(n_jobs=-1)]: Done 146 tasks      | elapsed: 22.6min\n",
      "[Parallel(n_jobs=-1)]: Done 300 out of 300 | elapsed: 43.9min finished\n"
     ]
    },
    {
     "name": "stdout",
     "output_type": "stream",
     "text": [
      "Fitting 3 folds for each of 1440 candidates, totalling 4320 fits\n"
     ]
    },
    {
     "name": "stderr",
     "output_type": "stream",
     "text": [
      "[Parallel(n_jobs=-1)]: Using backend LokyBackend with 8 concurrent workers.\n",
      "[Parallel(n_jobs=-1)]: Done  25 tasks      | elapsed:   58.6s\n",
      "[Parallel(n_jobs=-1)]: Done 146 tasks      | elapsed:  5.3min\n",
      "[Parallel(n_jobs=-1)]: Done 349 tasks      | elapsed: 12.6min\n",
      "[Parallel(n_jobs=-1)]: Done 632 tasks      | elapsed: 22.7min\n",
      "[Parallel(n_jobs=-1)]: Done 997 tasks      | elapsed: 38.1min\n",
      "[Parallel(n_jobs=-1)]: Done 1442 tasks      | elapsed: 61.7min\n",
      "[Parallel(n_jobs=-1)]: Done 1969 tasks      | elapsed: 92.7min\n",
      "[Parallel(n_jobs=-1)]: Done 2576 tasks      | elapsed: 132.4min\n",
      "[Parallel(n_jobs=-1)]: Done 3265 tasks      | elapsed: 188.1min\n",
      "[Parallel(n_jobs=-1)]: Done 4034 tasks      | elapsed: 254.5min\n",
      "[Parallel(n_jobs=-1)]: Done 4320 out of 4320 | elapsed: 276.6min finished\n"
     ]
    },
    {
     "name": "stdout",
     "output_type": "stream",
     "text": [
      "Fitting 3 folds for each of 100 candidates, totalling 300 fits\n"
     ]
    },
    {
     "name": "stderr",
     "output_type": "stream",
     "text": [
      "[Parallel(n_jobs=-1)]: Using backend LokyBackend with 8 concurrent workers.\n",
      "[Parallel(n_jobs=-1)]: Done  25 tasks      | elapsed:  3.7min\n",
      "[Parallel(n_jobs=-1)]: Done 146 tasks      | elapsed: 22.1min\n",
      "[Parallel(n_jobs=-1)]: Done 300 out of 300 | elapsed: 43.7min finished\n"
     ]
    },
    {
     "name": "stdout",
     "output_type": "stream",
     "text": [
      "Fitting 3 folds for each of 1440 candidates, totalling 4320 fits\n"
     ]
    },
    {
     "name": "stderr",
     "output_type": "stream",
     "text": [
      "[Parallel(n_jobs=-1)]: Using backend LokyBackend with 8 concurrent workers.\n",
      "[Parallel(n_jobs=-1)]: Done  25 tasks      | elapsed:   55.7s\n",
      "[Parallel(n_jobs=-1)]: Done 146 tasks      | elapsed:  5.2min\n",
      "[Parallel(n_jobs=-1)]: Done 349 tasks      | elapsed: 12.3min\n",
      "[Parallel(n_jobs=-1)]: Done 632 tasks      | elapsed: 22.3min\n",
      "[Parallel(n_jobs=-1)]: Done 997 tasks      | elapsed: 37.5min\n",
      "[Parallel(n_jobs=-1)]: Done 1442 tasks      | elapsed: 61.0min\n",
      "[Parallel(n_jobs=-1)]: Done 1969 tasks      | elapsed: 90.6min\n",
      "[Parallel(n_jobs=-1)]: Done 2576 tasks      | elapsed: 126.8min\n",
      "[Parallel(n_jobs=-1)]: Done 3265 tasks      | elapsed: 177.1min\n",
      "[Parallel(n_jobs=-1)]: Done 4034 tasks      | elapsed: 239.2min\n",
      "[Parallel(n_jobs=-1)]: Done 4320 out of 4320 | elapsed: 260.9min finished\n"
     ]
    },
    {
     "name": "stdout",
     "output_type": "stream",
     "text": [
      "Fitting 3 folds for each of 100 candidates, totalling 300 fits\n"
     ]
    },
    {
     "name": "stderr",
     "output_type": "stream",
     "text": [
      "[Parallel(n_jobs=-1)]: Using backend LokyBackend with 8 concurrent workers.\n",
      "[Parallel(n_jobs=-1)]: Done  25 tasks      | elapsed:  3.9min\n",
      "[Parallel(n_jobs=-1)]: Done 146 tasks      | elapsed: 22.5min\n",
      "[Parallel(n_jobs=-1)]: Done 300 out of 300 | elapsed: 44.2min finished\n"
     ]
    },
    {
     "name": "stdout",
     "output_type": "stream",
     "text": [
      "Fitting 3 folds for each of 1440 candidates, totalling 4320 fits\n"
     ]
    },
    {
     "name": "stderr",
     "output_type": "stream",
     "text": [
      "[Parallel(n_jobs=-1)]: Using backend LokyBackend with 8 concurrent workers.\n",
      "[Parallel(n_jobs=-1)]: Done  25 tasks      | elapsed:  1.1min\n",
      "[Parallel(n_jobs=-1)]: Done 146 tasks      | elapsed:  5.5min\n",
      "[Parallel(n_jobs=-1)]: Done 349 tasks      | elapsed: 12.9min\n",
      "[Parallel(n_jobs=-1)]: Done 632 tasks      | elapsed: 23.0min\n",
      "[Parallel(n_jobs=-1)]: Done 997 tasks      | elapsed: 38.4min\n",
      "[Parallel(n_jobs=-1)]: Done 1442 tasks      | elapsed: 62.8min\n",
      "[Parallel(n_jobs=-1)]: Done 1969 tasks      | elapsed: 93.3min\n",
      "[Parallel(n_jobs=-1)]: Done 2576 tasks      | elapsed: 130.3min\n",
      "[Parallel(n_jobs=-1)]: Done 3265 tasks      | elapsed: 181.4min\n",
      "[Parallel(n_jobs=-1)]: Done 4034 tasks      | elapsed: 244.3min\n",
      "[Parallel(n_jobs=-1)]: Done 4320 out of 4320 | elapsed: 266.4min finished\n"
     ]
    },
    {
     "name": "stdout",
     "output_type": "stream",
     "text": [
      "Fitting 3 folds for each of 100 candidates, totalling 300 fits\n"
     ]
    },
    {
     "name": "stderr",
     "output_type": "stream",
     "text": [
      "[Parallel(n_jobs=-1)]: Using backend LokyBackend with 8 concurrent workers.\n",
      "[Parallel(n_jobs=-1)]: Done  25 tasks      | elapsed:  3.6min\n",
      "[Parallel(n_jobs=-1)]: Done 146 tasks      | elapsed: 21.8min\n",
      "[Parallel(n_jobs=-1)]: Done 300 out of 300 | elapsed: 42.6min finished\n"
     ]
    },
    {
     "name": "stdout",
     "output_type": "stream",
     "text": [
      "Fitting 3 folds for each of 1440 candidates, totalling 4320 fits\n"
     ]
    },
    {
     "name": "stderr",
     "output_type": "stream",
     "text": [
      "[Parallel(n_jobs=-1)]: Using backend LokyBackend with 8 concurrent workers.\n",
      "[Parallel(n_jobs=-1)]: Done  25 tasks      | elapsed:   58.4s\n",
      "[Parallel(n_jobs=-1)]: Done 146 tasks      | elapsed:  5.3min\n",
      "[Parallel(n_jobs=-1)]: Done 349 tasks      | elapsed: 12.5min\n",
      "[Parallel(n_jobs=-1)]: Done 632 tasks      | elapsed: 22.6min\n",
      "[Parallel(n_jobs=-1)]: Done 997 tasks      | elapsed: 38.2min\n",
      "[Parallel(n_jobs=-1)]: Done 1442 tasks      | elapsed: 61.5min\n",
      "[Parallel(n_jobs=-1)]: Done 1969 tasks      | elapsed: 91.8min\n",
      "[Parallel(n_jobs=-1)]: Done 2576 tasks      | elapsed: 128.7min\n",
      "[Parallel(n_jobs=-1)]: Done 3265 tasks      | elapsed: 180.1min\n",
      "[Parallel(n_jobs=-1)]: Done 4034 tasks      | elapsed: 243.5min\n",
      "[Parallel(n_jobs=-1)]: Done 4320 out of 4320 | elapsed: 265.4min finished\n"
     ]
    },
    {
     "data": {
      "image/png": "[encoded data removed]",
      "text/plain": [
       "<Figure size 432x288 with 1 Axes>"
      ]
     },
     "metadata": {
      "needs_background": "light"
     },
     "output_type": "display_data"
    }
   ],
   "source": [
    "#Main script of model\n",
    "random_forest_score=[]\n",
    "score = float()\n",
    "model_parameters_score_on_metric = dict()\n",
    "#Random Search Training\n",
    "# Use the random grid to search for best hyperparameters\n",
    "# First create the base model to tune\n",
    "rf = RandomForestRegressor()\n",
    "# Random search of parameters, using 3 fold cross validation, \n",
    "# search across 100 different combinations, and use all available cores\n",
    "rf_random = RandomizedSearchCV(estimator = rf, param_distributions = random_grid, n_iter = 100, cv = 3, \n",
    "                               verbose=2, random_state=42, n_jobs = -1)\n",
    "cv = model_selection.KFold(n_splits=5, shuffle=True)\n",
    "# Fit the random search model\n",
    "i=1\n",
    "for train, test in cv.split(X, Y):\n",
    "    \n",
    "    rf_random.fit(X.iloc[train,:], Y.iloc[train])\n",
    "    param_grid = {'bootstrap': [rf_random.best_params_['bootstrap']],\n",
    "    'max_depth': set_research_interval_max_depth(rf_random.best_params_['max_depth'],[-10,-5,-1,1,5,10]),\n",
    "    'max_features': [rf_random.best_params_['max_features']],\n",
    "    'min_samples_leaf': set_research_interval_min_sample_leaf(rf_random.best_params_['min_samples_leaf'],[-8,-3,-1,1,3,8]),\n",
    "    'min_samples_split': set_research_interval_min_sample_split(rf_random.best_params_['min_samples_split'],[-6,-2,-1,1,2,6]),\n",
    "    'n_estimators': set_research_interval_min_sample_split(rf_random.best_params_['n_estimators'],[-100,-80,-40,-20,-10,-5,5,10,20,40,80,100])\n",
    "     }\n",
    "    rf = RandomForestRegressor()\n",
    "    grid_search = GridSearchCV(estimator = rf, param_grid = param_grid, cv = 3, n_jobs = -1, verbose = 2,refit=True)\n",
    "    grid_search.fit(X.iloc[train,:], Y.iloc[train])\n",
    "    best_grid = grid_search.best_estimator_\n",
    "    y_prd=best_grid.predict(X.iloc[test,:])\n",
    "    score = r2_score(Y.iloc[test], y_prd)  \n",
    "    model_parameters_score_on_metric[\"Model_%s\"%i]= model_score_on_different_metric(Y.iloc[test], y_prd, grid_search)   \n",
    "    random_forest_score.append(score) \n",
    "    plt.scatter(y_prd, Y.iloc[test], lw=2, alpha=0.3, label='Fold %d (R2 = %0.2f)' % (i,score))\n",
    "    i= i +1\n",
    "#plot R2 scores for each model  \n",
    "plt.plot([min(Y),max(Y)], [min(Y),max(Y)], linestyle='--', lw=2, color='black')\n",
    "plt.xlabel('Predicted')\n",
    "plt.ylabel('True')\n",
    "plt.title('K-Fold Validation')\n",
    "plt.legend()\n",
    "plt.show()"
   ]
  },
  {
   "cell_type": "code",
   "execution_count": 253,
   "metadata": {},
   "outputs": [
    {
     "data": {
      "text/plain": [
       "{'Model parameters': {'bootstrap': True,\n",
       "  'max_depth': 5,\n",
       "  'max_features': 'sqrt',\n",
       "  'min_samples_leaf': 5,\n",
       "  'min_samples_split': 11,\n",
       "  'n_estimators': 990},\n",
       " 'Mean absolute error': 117.38994653530015,\n",
       " 'Root-mean-square error': 184.3875361093617,\n",
       " 'Coefficient of determination': 0.4463934847954365}"
      ]
     },
     "execution_count": 253,
     "metadata": {},
     "output_type": "execute_result"
    }
   ],
   "source": [
    "Best_model= random_forest_score.index(max(random_forest_score)) + 1\n",
    "model_parameters_score_on_metric['Model_%s'%Best_model]"
   ]
  },
  {
   "cell_type": "code",
   "execution_count": null,
   "metadata": {},
   "outputs": [],
   "source": []
  }
 ],
 "metadata": {
  "kernelspec": {
   "display_name": "Python 3",
   "language": "python",
   "name": "python3"
  },
  "language_info": {
   "codemirror_mode": {
    "name": "ipython",
    "version": 3
   },
   "file_extension": ".py",
   "mimetype": "text/x-python",
   "name": "python",
   "nbconvert_exporter": "python",
   "pygments_lexer": "ipython3",
   "version": "3.8.5"
  }
 },
 "nbformat": 4,
 "nbformat_minor": 4
}
